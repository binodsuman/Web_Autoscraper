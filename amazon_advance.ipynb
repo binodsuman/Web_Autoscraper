{
 "cells": [
  {
   "cell_type": "code",
   "execution_count": 1,
   "metadata": {},
   "outputs": [],
   "source": [
    "from autoscraper import AutoScraper"
   ]
  },
  {
   "cell_type": "code",
   "execution_count": 2,
   "metadata": {},
   "outputs": [],
   "source": [
    "scraper = AutoScraper()"
   ]
  },
  {
   "cell_type": "code",
   "execution_count": 3,
   "metadata": {},
   "outputs": [],
   "source": [
    "url = \"https://www.amazon.in/s?k=headphone&crid=C0IR7SBJ1XNN&sprefix=headphon%2Caps%2C200&ref=nb_sb_noss_2\"\n",
    "\n",
    "candiate_dict = {\n",
    "    'Title': [\n",
    "        \"Logitech H111 Wired On Ear Headphones With Mic Black\"\n",
    "    ],\n",
    "    'Price':['₹742'],\n",
    "    'Review':['9,710']\n",
    "}"
   ]
  },
  {
   "cell_type": "code",
   "execution_count": 4,
   "metadata": {},
   "outputs": [
    {
     "data": {
      "text/plain": [
       "['Logitech H111 Wired On Ear Headphones With Mic Black',\n",
       " 'MX Wireless Silent Headphone with Transmitter. (with 10 PCS Silent Headphone and 1 Transmitter)',\n",
       " 'boAt Rockerz 450 Pro On-Ear Headphones with 70 Hours Battery, 40mm Drivers, Bluetooth V5.0 Padded Ear Cushions, Easy Access Controls and Voice Assistant(White Purity)',\n",
       " 'boAt Rockerz 245v2 Bluetooth Wireless in Ear Earphones with Mic Teal Green',\n",
       " 'boAt Airdopes 141 True Wireless Earbuds with 42H Playtime, Beast Mode(Low Latency Upto 80ms) for Gaming, ENx Tech, ASAP Charge, IWP, IPX4 Water Resistance, Smooth Touch Controls',\n",
       " 'boAt Rockerz 550 T-Rebel Edition Bluetooth Headphones with Upto 20 Hours Playback, 50MM Drivers, Soft Padded Ear Cushions and Integrated Controls(Maroon Maverick)',\n",
       " '₹742',\n",
       " '₹795',\n",
       " '₹73,300',\n",
       " '₹99,900',\n",
       " '₹1,799',\n",
       " '₹3,990',\n",
       " '₹999',\n",
       " '₹2,490',\n",
       " '₹1,329',\n",
       " '₹4,490',\n",
       " '₹1,999',\n",
       " '₹4,999',\n",
       " '9,710',\n",
       " '74,571',\n",
       " '54,025',\n",
       " '45,281',\n",
       " '39,723']"
      ]
     },
     "execution_count": 4,
     "metadata": {},
     "output_type": "execute_result"
    }
   ],
   "source": [
    "scraper.build(url=url, wanted_dict=candiate_dict)"
   ]
  },
  {
   "cell_type": "code",
   "execution_count": 5,
   "metadata": {},
   "outputs": [
    {
     "data": {
      "text/plain": [
       "{'rule_qctz': ['Logitech H111 Wired On Ear Headphones With Mic Black',\n",
       "  'boAt Rockerz 450 Pro On-Ear Headphones with 70 Hours Battery, 40mm Drivers, Bluetooth V5.0 Padded Ear Cushions, Easy Access Controls and Voice Assistant(White Purity)',\n",
       "  'boAt Rockerz 245v2 Bluetooth Wireless in Ear Earphones with Mic Teal Green',\n",
       "  'boAt Airdopes 141 True Wireless Earbuds with 42H Playtime, Beast Mode(Low Latency Upto 80ms) for Gaming, ENx Tech, ASAP Charge, IWP, IPX4 Water Resistance, Smooth Touch Controls',\n",
       "  'JBL T460BT by Harman, Wireless On Ear Headphones with Mic, Pure Bass, Portable, Lightweight & Flat Foldable, Voice Assistant Support for Mobiles (Black)',\n",
       "  'Infinity (JBL) Glide 500, 20 Hrs Playtime with Quick Charge, Wireless On Ear Headphone with Mic, Deep Bass, Dual Equalizer, Bluetooth 5.0 with Voice Assistant Support (Black)'],\n",
       " 'rule_ouxu': ['₹742',\n",
       "  '₹795',\n",
       "  '₹1,799',\n",
       "  '₹3,990',\n",
       "  '₹999',\n",
       "  '₹2,490',\n",
       "  '₹1,329',\n",
       "  '₹4,490',\n",
       "  '₹2,399',\n",
       "  '₹3,499',\n",
       "  '₹1,499',\n",
       "  '₹3,499'],\n",
       " 'rule_yfg3': ['₹742',\n",
       "  '₹795',\n",
       "  '₹1,799',\n",
       "  '₹3,990',\n",
       "  '₹999',\n",
       "  '₹2,490',\n",
       "  '₹1,329',\n",
       "  '₹4,490',\n",
       "  '₹2,399',\n",
       "  '₹3,499',\n",
       "  '₹1,499',\n",
       "  '₹3,499'],\n",
       " 'rule_x23d': ['9,710', '74,571', '54,025', '45,281', '24,453', '37,714']}"
      ]
     },
     "execution_count": 5,
     "metadata": {},
     "output_type": "execute_result"
    }
   ],
   "source": [
    "scraper.get_result_similar(url=url, grouped=True)"
   ]
  },
  {
   "cell_type": "code",
   "execution_count": 6,
   "metadata": {},
   "outputs": [
    {
     "data": {
      "text/plain": [
       "{'Title': ['Logitech H111 Wired On Ear Headphones With Mic Black',\n",
       "  'JBL Tune 760 Bluetooth Wireless Over Ear Headphones with mic Black',\n",
       "  'boAt Rockerz 450 Pro On-Ear Headphones with 70 Hours Battery, 40mm Drivers, Bluetooth V5.0 Padded Ear Cushions, Easy Access Controls and Voice Assistant(White Purity)',\n",
       "  'boAt Rockerz 245v2 Bluetooth Wireless in Ear Earphones with Mic Teal Green',\n",
       "  'boAt Airdopes 141 True Wireless Earbuds with 42H Playtime, Beast Mode(Low Latency Upto 80ms) for Gaming, ENx Tech, ASAP Charge, IWP, IPX4 Water Resistance, Smooth Touch Controls',\n",
       "  'Infinity (JBL) Glide 500, 20 Hrs Playtime with Quick Charge, Wireless On Ear Headphone with Mic, Deep Bass, Dual Equalizer, Bluetooth 5.0 with Voice Assistant Support (Black)'],\n",
       " 'Price': ['₹742',\n",
       "  '₹742',\n",
       "  '₹795',\n",
       "  '₹795',\n",
       "  '₹5,999',\n",
       "  '₹5,999',\n",
       "  '₹7,999',\n",
       "  '₹7,999',\n",
       "  '₹1,799',\n",
       "  '₹1,799',\n",
       "  '₹3,990',\n",
       "  '₹3,990',\n",
       "  '₹999',\n",
       "  '₹999',\n",
       "  '₹2,490',\n",
       "  '₹2,490',\n",
       "  '₹1,329',\n",
       "  '₹1,329',\n",
       "  '₹4,490',\n",
       "  '₹4,490',\n",
       "  '₹1,499',\n",
       "  '₹1,499',\n",
       "  '₹3,499',\n",
       "  '₹3,499'],\n",
       " 'Review': ['9,710', '24,453', '74,571', '54,025', '45,281', '37,714']}"
      ]
     },
     "execution_count": 6,
     "metadata": {},
     "output_type": "execute_result"
    }
   ],
   "source": [
    "scraper.get_result_similar(url=url, group_by_alias=True)"
   ]
  },
  {
   "cell_type": "code",
   "execution_count": 7,
   "metadata": {},
   "outputs": [
    {
     "data": {
      "text/plain": [
       "{'Title': ['Logitech H111 Wired On Ear Headphones With Mic Black',\n",
       "  'MX Wireless Silent Headphone with Transmitter. (with 10 PCS Silent Headphone and 1 Transmitter)',\n",
       "  'boAt Rockerz 450 Pro On-Ear Headphones with 70 Hours Battery, 40mm Drivers, Bluetooth V5.0 Padded Ear Cushions, Easy Access Controls and Voice Assistant(White Purity)',\n",
       "  'boAt Rockerz 245v2 Bluetooth Wireless in Ear Earphones with Mic Teal Green',\n",
       "  'JBL T460BT by Harman, Wireless On Ear Headphones with Mic, Pure Bass, Portable, Lightweight & Flat Foldable, Voice Assistant Support for Mobiles (Black)',\n",
       "  'boAt Airdopes 141 True Wireless Earbuds with 42H Playtime, Beast Mode(Low Latency Upto 80ms) for Gaming, ENx Tech, ASAP Charge, IWP, IPX4 Water Resistance, Smooth Touch Controls'],\n",
       " 'Price': ['₹742',\n",
       "  '₹742',\n",
       "  '₹795',\n",
       "  '₹795',\n",
       "  '₹73,300',\n",
       "  '₹73,300',\n",
       "  '₹99,900',\n",
       "  '₹99,900',\n",
       "  '₹1,799',\n",
       "  '₹1,799',\n",
       "  '₹3,990',\n",
       "  '₹3,990',\n",
       "  '₹999',\n",
       "  '₹999',\n",
       "  '₹2,490',\n",
       "  '₹2,490',\n",
       "  '₹2,399',\n",
       "  '₹2,399',\n",
       "  '₹3,499',\n",
       "  '₹3,499',\n",
       "  '₹1,329',\n",
       "  '₹1,329',\n",
       "  '₹4,490',\n",
       "  '₹4,490'],\n",
       " 'Review': ['9,710', '74,571', '54,025', '24,453', '45,281']}"
      ]
     },
     "execution_count": 7,
     "metadata": {},
     "output_type": "execute_result"
    }
   ],
   "source": [
    "result = scraper.get_result_similar(url=url, group_by_alias=True)\n",
    "result"
   ]
  },
  {
   "cell_type": "code",
   "execution_count": 8,
   "metadata": {},
   "outputs": [
    {
     "data": {
      "text/plain": [
       "6"
      ]
     },
     "execution_count": 8,
     "metadata": {},
     "output_type": "execute_result"
    }
   ],
   "source": [
    "len(result['Title'])"
   ]
  },
  {
   "cell_type": "code",
   "execution_count": 9,
   "metadata": {},
   "outputs": [
    {
     "data": {
      "text/plain": [
       "24"
      ]
     },
     "execution_count": 9,
     "metadata": {},
     "output_type": "execute_result"
    }
   ],
   "source": [
    "len(result['Price'])"
   ]
  },
  {
   "cell_type": "code",
   "execution_count": 10,
   "metadata": {},
   "outputs": [
    {
     "data": {
      "text/plain": [
       "5"
      ]
     },
     "execution_count": 10,
     "metadata": {},
     "output_type": "execute_result"
    }
   ],
   "source": [
    "len(result['Review'])"
   ]
  },
  {
   "cell_type": "code",
   "execution_count": 11,
   "metadata": {},
   "outputs": [],
   "source": [
    "url = \"https://www.amazon.in/s?k=headphone&crid=C0IR7SBJ1XNN&sprefix=headphon%2Caps%2C200&ref=nb_sb_noss_2\"\n",
    "\n",
    "candiate_dict = {\n",
    "    'Title': [\n",
    "        \"Logitech H111 Wired On Ear Headphones With Mic Black\",\n",
    "        \"PTron Pride Lite HBE Wired in Ear Earphones with Mic (Grey)\"\n",
    "    ],\n",
    "    'Price':['₹742','₹1,799'],\n",
    "    'Review':['9,710','230,027']\n",
    "}"
   ]
  },
  {
   "cell_type": "code",
   "execution_count": 12,
   "metadata": {},
   "outputs": [],
   "source": [
    "scraper = AutoScraper()"
   ]
  },
  {
   "cell_type": "code",
   "execution_count": 13,
   "metadata": {},
   "outputs": [
    {
     "data": {
      "text/plain": [
       "['Logitech H111 Wired On Ear Headphones With Mic Black',\n",
       " 'boAt Rockerz 450 Pro On-Ear Headphones with 70 Hours Battery, 40mm Drivers, Bluetooth V5.0 Padded Ear Cushions, Easy Access Controls and Voice Assistant(White Purity)',\n",
       " 'boAt Rockerz 245v2 Bluetooth Wireless in Ear Earphones with Mic Teal Green',\n",
       " 'boAt Airdopes 141 True Wireless Earbuds with 42H Playtime, Beast Mode(Low Latency Upto 80ms) for Gaming, ENx Tech, ASAP Charge, IWP, IPX4 Water Resistance, Smooth Touch Controls',\n",
       " 'JBL T460BT by Harman, Wireless On Ear Headphones with Mic, Pure Bass, Portable, Lightweight & Flat Foldable, Voice Assistant Support for Mobiles (Black)',\n",
       " 'Infinity (JBL) Glide 500, 20 Hrs Playtime with Quick Charge, Wireless On Ear Headphone with Mic, Deep Bass, Dual Equalizer, Bluetooth 5.0 with Voice Assistant Support (Black)',\n",
       " 'Best sellerin On-Ear Headphones',\n",
       " 'boAt Rockerz 370 Bluetooth Wireless On Ear Headphone with Mic (Buoyant Black)',\n",
       " 'Earphones with mic for All Smartphones Wired Headset (White, in The Ear)',\n",
       " 'Amazon\\'s Choicefor \"headphones\"',\n",
       " 'boAt Bassheads 900 Wired On Ear Headphones with Mic (Carbon Black)',\n",
       " 'boAt Rockerz 450 Bluetooth Wireless On Ear Headphone with Mic (Luscious Black)',\n",
       " 'Boult Audio BassBuds Storm-X in-Ear Wired Earphones with Mic and Full Metal Body for Extra Bass & HD Sound (Red)',\n",
       " 'boAt Bassheads 102 in Ear Wired Earphones with Mic(Jazzy Blue)',\n",
       " 'boAt Bassheads 225 in Ear Wired Earphones with Mic(Blue)',\n",
       " 'boAt Rockerz 550 Bluetooth Wireless Over Ear Headphone with Mic (Black)',\n",
       " 'PTron Pride Lite HBE Wired in Ear Earphones with Mic (Grey)',\n",
       " 'Boult Audio ProBass Curve Bluetooth Earphones with 12H Battery Life & Extra Bass, IPX5 Water Resistant Headphones (Black)',\n",
       " 'boAt Rockerz 510 Wireless Bluetooth On Ear Headphones with Mic (Raging Red)',\n",
       " 'Sony WH-1000XM3 Bluetooth Wireless Over Ear Headphones with Mic (Black)',\n",
       " 'Tribit XFree Go Headphones with Mic, Wireless Bluetooth Headphone Over Ear, HiFi Sound,Deep Bass,Lightweight,Type-C Lightening Fast Charge, 24H Playtime,Voice Control,Black',\n",
       " 'boAt Rockerz 450 T-Rebel Edition Bluetooth Headphones with up 15 Hours Playback, 40MM Drivers and Padded Ear Cushions(Aqua Blue)',\n",
       " 'Sony MDR-ZX110A Wired On Ear Headphone without Mic (White)',\n",
       " 'Tribit XFree Go Headphones with Mic, Wireless Bluetooth Headphone Over Ear, HiFi Sound,Deep Bass,Lightweight,Type-C Lighte...',\n",
       " 'boAt Rockerz 450 T-Rebel Edition Bluetooth Headphones with up 15 Hours Playback, 40MM Drivers and Padded Ear Cushions(Aqua...',\n",
       " 'JBL T460BT by Harman, Wireless On Ear Headphones with Mic, Pure Bass, Portable, Lightweight & Flat Foldable, Voice Assista...',\n",
       " '₹742',\n",
       " '₹795',\n",
       " '₹1,799',\n",
       " '₹3,990',\n",
       " '₹999',\n",
       " '₹2,490',\n",
       " '₹1,329',\n",
       " '₹4,490',\n",
       " '₹2,399',\n",
       " '₹3,499',\n",
       " '₹1,499',\n",
       " '9,710',\n",
       " '74,571',\n",
       " '54,025',\n",
       " '45,284',\n",
       " '24,453',\n",
       " '37,714',\n",
       " '21,526',\n",
       " '76,331',\n",
       " '30,929',\n",
       " '61,356',\n",
       " '230,027',\n",
       " '39,723',\n",
       " '40,725',\n",
       " '103,961',\n",
       " '61,286',\n",
       " '6,130',\n",
       " '4,702',\n",
       " '83,184']"
      ]
     },
     "execution_count": 13,
     "metadata": {},
     "output_type": "execute_result"
    }
   ],
   "source": [
    "scraper.build(url=url, wanted_dict=candiate_dict)"
   ]
  },
  {
   "cell_type": "code",
   "execution_count": 20,
   "metadata": {},
   "outputs": [
    {
     "data": {
      "text/plain": [
       "{'rule_nej7': ['Logitech H111 Wired On Ear Headphones With Mic Black',\n",
       "  'JBL Tune 760 Bluetooth Wireless Over Ear Headphones with mic Black',\n",
       "  'boAt Rockerz 450 Pro On-Ear Headphones with 70 Hours Battery, 40mm Drivers, Bluetooth V5.0 Padded Ear Cushions, Easy Access Controls and Voice Assistant(White Purity)',\n",
       "  'boAt Rockerz 245v2 Bluetooth Wireless in Ear Earphones with Mic Teal Green',\n",
       "  'boAt Airdopes 141 True Wireless Earbuds with 42H Playtime, Beast Mode(Low Latency Upto 80ms) for Gaming, ENx Tech, ASAP Charge, IWP, IPX4 Water Resistance, Smooth Touch Controls',\n",
       "  'boAt Rockerz 550 T-Rebel Edition Bluetooth Headphones with Upto 20 Hours Playback, 50MM Drivers, Soft Padded Ear Cushions and Integrated Controls(Maroon Maverick)'],\n",
       " 'rule_lkvh': ['Best sellerin On-Ear Headphones',\n",
       "  'boAt Rockerz 370 Bluetooth Wireless On Ear Headphone with Mic (Buoyant Black)',\n",
       "  'Ear Phone.',\n",
       "  'Amazon\\'s Choicefor \"headphones\"',\n",
       "  'boAt Bassheads 900 Wired On Ear Headphones with Mic (Carbon Black)',\n",
       "  'boAt Rockerz 450 Bluetooth Wireless On Ear Headphone with Mic (Luscious Black)',\n",
       "  'Boult Audio BassBuds Storm-X in-Ear Wired Earphones with Mic and Full Metal Body for Extra Bass & HD Sound (Red)',\n",
       "  'boAt Bassheads 102 in Ear Wired Earphones with Mic(Jazzy Blue)',\n",
       "  'boAt Bassheads 225 in Ear Wired Earphones with Mic(Blue)',\n",
       "  'boAt Rockerz 550 Bluetooth Wireless Over Ear Headphone with Mic (Black)',\n",
       "  'PTron Pride Lite HBE Wired in Ear Earphones with Mic (Grey)',\n",
       "  'Boult Audio ProBass Curve Bluetooth Earphones with 12H Battery Life & Extra Bass, IPX5 Water Resistant Headphones (Black)',\n",
       "  'boAt Rockerz 510 Wireless Bluetooth On Ear Headphones with Mic (Raging Red)',\n",
       "  'Sony WH-1000XM3 Bluetooth Wireless Over Ear Headphones with Mic (Black)',\n",
       "  'Tribit XFree Go Headphones with Mic, Wireless Bluetooth Headphone Over Ear, HiFi Sound,Deep Bass,Lightweight,Type-C Lightening Fast Charge, 24H Playtime,Voice Control,Black',\n",
       "  'boAt Rockerz 450 T-Rebel Edition Bluetooth Headphones with up 15 Hours Playback, 40MM Drivers and Padded Ear Cushions(Aqua Blue)',\n",
       "  'Sony MDR-ZX110A Wired On Ear Headphone without Mic (White)',\n",
       "  'JBL T460BT by Harman, Wireless On Ear Headphones with Mic, Pure Bass, Portable, Lightweight & Flat Foldable, Voice Assistant Support for Mobiles (Black)'],\n",
       " 'rule_28t6': ['boAt Rockerz 370 Bluetooth Wireless On Ear Headphone with Mic (Buoyant Black)',\n",
       "  'Ear Phone.',\n",
       "  'boAt Bassheads 900 Wired On Ear Headphones with Mic (Carbon Black)',\n",
       "  'boAt Rockerz 450 Bluetooth Wireless On Ear Headphone with Mic (Luscious Black)',\n",
       "  'Boult Audio BassBuds Storm-X in-Ear Wired Earphones with Mic and Full Metal Body for Extra Bass & HD Sound (Red)',\n",
       "  'boAt Bassheads 102 in Ear Wired Earphones with Mic(Jazzy Blue)',\n",
       "  'boAt Bassheads 225 in Ear Wired Earphones with Mic(Blue)',\n",
       "  'boAt Rockerz 550 Bluetooth Wireless Over Ear Headphone with Mic (Black)',\n",
       "  'PTron Pride Lite HBE Wired in Ear Earphones with Mic (Grey)',\n",
       "  'Boult Audio ProBass Curve Bluetooth Earphones with 12H Battery Life & Extra Bass, IPX5 Water Resistant Headphones (Black)',\n",
       "  'boAt Rockerz 510 Wireless Bluetooth On Ear Headphones with Mic (Raging Red)',\n",
       "  'Sony WH-1000XM3 Bluetooth Wireless Over Ear Headphones with Mic (Black)',\n",
       "  'Tribit XFree Go Headphones with Mic, Wireless Bluetooth Headphone Over Ear, HiFi Sound,Deep Bass,Lightweight,Type-C Lighte...',\n",
       "  'boAt Rockerz 450 T-Rebel Edition Bluetooth Headphones with up 15 Hours Playback, 40MM Drivers and Padded Ear Cushions(Aqua...',\n",
       "  'Sony MDR-ZX110A Wired On Ear Headphone without Mic (White)',\n",
       "  'JBL T460BT by Harman, Wireless On Ear Headphones with Mic, Pure Bass, Portable, Lightweight & Flat Foldable, Voice Assista...'],\n",
       " 'rule_l53m': ['₹742',\n",
       "  '₹795',\n",
       "  '₹5,999',\n",
       "  '₹7,999',\n",
       "  '₹1,799',\n",
       "  '₹3,990',\n",
       "  '₹999',\n",
       "  '₹2,490',\n",
       "  '₹1,329',\n",
       "  '₹4,490',\n",
       "  '₹1,999',\n",
       "  '₹4,999'],\n",
       " 'rule_lj3z': ['₹742',\n",
       "  '₹795',\n",
       "  '₹5,999',\n",
       "  '₹7,999',\n",
       "  '₹1,799',\n",
       "  '₹3,990',\n",
       "  '₹999',\n",
       "  '₹2,490',\n",
       "  '₹1,329',\n",
       "  '₹4,490',\n",
       "  '₹1,999',\n",
       "  '₹4,999'],\n",
       " 'rule_luuv': ['₹742',\n",
       "  '₹795',\n",
       "  '₹5,999',\n",
       "  '₹7,999',\n",
       "  '₹1,799',\n",
       "  '₹3,990',\n",
       "  '₹999',\n",
       "  '₹2,490',\n",
       "  '₹1,329',\n",
       "  '₹4,490',\n",
       "  '₹1,999',\n",
       "  '₹4,999'],\n",
       " 'rule_c563': ['₹742',\n",
       "  '₹795',\n",
       "  '₹5,999',\n",
       "  '₹7,999',\n",
       "  '₹1,799',\n",
       "  '₹3,990',\n",
       "  '₹999',\n",
       "  '₹2,490',\n",
       "  '₹1,329',\n",
       "  '₹4,490',\n",
       "  '₹1,999',\n",
       "  '₹4,999'],\n",
       " 'rule_r4c7': ['9,710', '24,453', '74,571', '54,025', '45,284', '39,723'],\n",
       " 'rule_7oou': ['21,526',\n",
       "  '76,331',\n",
       "  '74,571',\n",
       "  '30,929',\n",
       "  '61,356',\n",
       "  '230,027',\n",
       "  '39,723',\n",
       "  '40,725',\n",
       "  '103,961',\n",
       "  '61,286',\n",
       "  '6,130',\n",
       "  '4,702',\n",
       "  '74,571',\n",
       "  '83,184',\n",
       "  '24,453']}"
      ]
     },
     "execution_count": 20,
     "metadata": {},
     "output_type": "execute_result"
    }
   ],
   "source": [
    "result = scraper.get_result_similar(url=url, grouped=True)\n",
    "result"
   ]
  },
  {
   "cell_type": "code",
   "execution_count": 21,
   "metadata": {},
   "outputs": [],
   "source": [
    "scraper.keep_rules(['rule_28t6','rule_luuv','rule_7oou'])"
   ]
  },
  {
   "cell_type": "code",
   "execution_count": 15,
   "metadata": {},
   "outputs": [
    {
     "data": {
      "text/plain": [
       "40"
      ]
     },
     "execution_count": 15,
     "metadata": {},
     "output_type": "execute_result"
    }
   ],
   "source": [
    "len(result['Title'])"
   ]
  },
  {
   "cell_type": "code",
   "execution_count": null,
   "metadata": {},
   "outputs": [],
   "source": []
  },
  {
   "cell_type": "code",
   "execution_count": 22,
   "metadata": {},
   "outputs": [
    {
     "data": {
      "text/plain": [
       "{'Title': ['boAt Rockerz 370 Bluetooth Wireless On Ear Headphone with Mic (Buoyant Black)',\n",
       "  'Portable Mini Wireless Bluetooth Earphone with Charging Box for All Smartphone',\n",
       "  'boAt Bassheads 900 Wired On Ear Headphones with Mic (Carbon Black)',\n",
       "  'boAt Rockerz 450 Bluetooth Wireless On Ear Headphone with Mic (Luscious Black)',\n",
       "  'Boult Audio BassBuds Storm-X in-Ear Wired Earphones with Mic and Full Metal Body for Extra Bass & HD Sound (Red)',\n",
       "  'boAt Bassheads 102 in Ear Wired Earphones with Mic(Jazzy Blue)',\n",
       "  'boAt Bassheads 225 in Ear Wired Earphones with Mic(Blue)',\n",
       "  'boAt Rockerz 550 Bluetooth Wireless Over Ear Headphone with Mic (Black)',\n",
       "  'Boult Audio ProBass Curve Bluetooth Earphones with 12H Battery Life & Extra Bass, IPX5 Water Resistant Headphones (Black)',\n",
       "  'boAt Rockerz 510 Wireless Bluetooth On Ear Headphones with Mic (Raging Red)',\n",
       "  'Sony WH-1000XM3 Bluetooth Wireless Over Ear Headphones with Mic (Black)',\n",
       "  'boAt Rockerz 450 T-Rebel Edition Bluetooth Headphones with up 15 Hours Playback, 40MM Drivers and Padded Ear Cushions(Aqua...',\n",
       "  'Sony MDR-ZX110A Wired On Ear Headphone without Mic (White)',\n",
       "  'JBL T460BT by Harman, Wireless On Ear Headphones with Mic, Pure Bass, Portable, Lightweight & Flat Foldable, Voice Assista...',\n",
       "  'pTron Tangent Lite Bluetooth 5.0 Wireless Headphones with Hi-Fi Stereo Sound, 8Hrs Playtime, Lightweight Ergonomic Neckban...',\n",
       "  'Boult Audio ProBass Curve-X Bluetooth Earphones with Fast Charging & 15H Battery Life, Extra Bass, IPX5 Water Resistant He...'],\n",
       " 'Price': ['₹742',\n",
       "  '₹795',\n",
       "  '₹5,999',\n",
       "  '₹7,999',\n",
       "  '₹1,799',\n",
       "  '₹3,990',\n",
       "  '₹999',\n",
       "  '₹2,490',\n",
       "  '₹1,329',\n",
       "  '₹4,490',\n",
       "  '₹1,999',\n",
       "  '₹4,999'],\n",
       " 'Review': ['21,526',\n",
       "  '76,331',\n",
       "  '74,571',\n",
       "  '30,929',\n",
       "  '61,356',\n",
       "  '230,027',\n",
       "  '39,723',\n",
       "  '103,961',\n",
       "  '61,286',\n",
       "  '6,130',\n",
       "  '74,571',\n",
       "  '83,184',\n",
       "  '24,453',\n",
       "  '70,213',\n",
       "  '334']}"
      ]
     },
     "execution_count": 22,
     "metadata": {},
     "output_type": "execute_result"
    }
   ],
   "source": [
    "result = scraper.get_result_similar(url=url, group_by_alias=True)\n",
    "result"
   ]
  },
  {
   "cell_type": "code",
   "execution_count": 23,
   "metadata": {},
   "outputs": [
    {
     "data": {
      "text/plain": [
       "16"
      ]
     },
     "execution_count": 23,
     "metadata": {},
     "output_type": "execute_result"
    }
   ],
   "source": [
    "len(result['Title'])"
   ]
  },
  {
   "cell_type": "code",
   "execution_count": 24,
   "metadata": {},
   "outputs": [
    {
     "name": "stdout",
     "output_type": "stream",
     "text": [
      "boAt Rockerz 370 Bluetooth Wireless On Ear Headphone with Mic (Buoyant Black)\n",
      "Portable Mini Wireless Bluetooth Earphone with Charging Box for All Smartphone\n",
      "boAt Bassheads 900 Wired On Ear Headphones with Mic (Carbon Black)\n",
      "boAt Rockerz 450 Bluetooth Wireless On Ear Headphone with Mic (Luscious Black)\n",
      "Boult Audio BassBuds Storm-X in-Ear Wired Earphones with Mic and Full Metal Body for Extra Bass & HD Sound (Red)\n",
      "boAt Bassheads 102 in Ear Wired Earphones with Mic(Jazzy Blue)\n",
      "boAt Bassheads 225 in Ear Wired Earphones with Mic(Blue)\n",
      "boAt Rockerz 550 Bluetooth Wireless Over Ear Headphone with Mic (Black)\n",
      "Boult Audio ProBass Curve Bluetooth Earphones with 12H Battery Life & Extra Bass, IPX5 Water Resistant Headphones (Black)\n",
      "boAt Rockerz 510 Wireless Bluetooth On Ear Headphones with Mic (Raging Red)\n",
      "Sony WH-1000XM3 Bluetooth Wireless Over Ear Headphones with Mic (Black)\n",
      "boAt Rockerz 450 T-Rebel Edition Bluetooth Headphones with up 15 Hours Playback, 40MM Drivers and Padded Ear Cushions(Aqua...\n",
      "Sony MDR-ZX110A Wired On Ear Headphone without Mic (White)\n",
      "JBL T460BT by Harman, Wireless On Ear Headphones with Mic, Pure Bass, Portable, Lightweight & Flat Foldable, Voice Assista...\n",
      "pTron Tangent Lite Bluetooth 5.0 Wireless Headphones with Hi-Fi Stereo Sound, 8Hrs Playtime, Lightweight Ergonomic Neckban...\n",
      "Boult Audio ProBass Curve-X Bluetooth Earphones with Fast Charging & 15H Battery Life, Extra Bass, IPX5 Water Resistant He...\n"
     ]
    }
   ],
   "source": [
    "for x in range(len(result['Title'])):\n",
    "    print(result['Title'][x])"
   ]
  },
  {
   "cell_type": "code",
   "execution_count": null,
   "metadata": {},
   "outputs": [],
   "source": []
  }
 ],
 "metadata": {
  "kernelspec": {
   "display_name": "Python 3",
   "language": "python",
   "name": "python3"
  },
  "language_info": {
   "codemirror_mode": {
    "name": "ipython",
    "version": 3
   },
   "file_extension": ".py",
   "mimetype": "text/x-python",
   "name": "python",
   "nbconvert_exporter": "python",
   "pygments_lexer": "ipython3",
   "version": "3.7.4"
  }
 },
 "nbformat": 4,
 "nbformat_minor": 2
}
