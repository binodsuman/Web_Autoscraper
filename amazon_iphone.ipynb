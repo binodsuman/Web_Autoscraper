{
 "cells": [
  {
   "cell_type": "code",
   "execution_count": 1,
   "metadata": {},
   "outputs": [],
   "source": [
    "from autoscraper import AutoScraper"
   ]
  },
  {
   "cell_type": "code",
   "execution_count": 2,
   "metadata": {},
   "outputs": [],
   "source": [
    "scraper = AutoScraper()"
   ]
  },
  {
   "cell_type": "code",
   "execution_count": 3,
   "metadata": {},
   "outputs": [],
   "source": [
    "amz_url = \"https://www.amazon.in/s?k=iphone&crid=3HDYR9NRW33K1&sprefix=iphon%2Caps%2C515&ref=nb_sb_noss_2\";\n",
    "candidate_list = [\"₹42,999\",\"Apple iPhone 12 (64GB) - Green\"]"
   ]
  },
  {
   "cell_type": "code",
   "execution_count": 4,
   "metadata": {},
   "outputs": [
    {
     "name": "stdout",
     "output_type": "stream",
     "text": [
      "['₹49,900', '₹60,490', '₹70,900', '₹56,490', '₹65,900', '₹42,999', '₹52,900', '₹60,990', '₹84,900', '₹54,900', '₹55,990', '₹56,990', 'Apple iPhone 11 (64GB) - White', 'Apple iPhone 11 (64GB) - Black', 'Apple iPhone 12 (128GB) - Blue', 'Apple iPhone 12 (64GB) - Black', 'Apple iPhone XR (128GB) - (Product) RED', 'Apple iPhone 12 (128GB) - Green', 'Apple iPhone 11 (128GB) - White', 'Apple iPhone 11 (128GB) - Purple', 'Apple iPhone 12 (128GB) - Black', 'Apple iPhone 11 (128GB) - (Product) RED', 'Apple iPhone 11 (64GB) - Purple', 'Apple iPhone 12 (64GB) - Blue', 'Apple iPhone 12 (64GB) - Green', 'Apple iPhone 12 (64GB) - Purple', 'Apple iPhone 11 (128GB) - Black', 'Apple iPhone 11 (64GB) - (Product) RED', 'Apple iPhone 13 (128GB) - Midnight']\n"
     ]
    }
   ],
   "source": [
    "result = scraper.build(amz_url,candidate_list)\n",
    "print(result)"
   ]
  },
  {
   "cell_type": "code",
   "execution_count": 5,
   "metadata": {},
   "outputs": [
    {
     "data": {
      "text/plain": [
       "{'rule_d2by': ['₹49,900',\n",
       "  '₹49,900',\n",
       "  '₹60,490',\n",
       "  '₹70,900',\n",
       "  '₹56,490',\n",
       "  '₹65,900',\n",
       "  '₹42,999',\n",
       "  '₹52,900',\n",
       "  '₹60,990',\n",
       "  '₹84,900',\n",
       "  '₹54,900',\n",
       "  '₹54,900',\n",
       "  '₹60,490',\n",
       "  '₹70,900',\n",
       "  '₹54,900',\n",
       "  '₹49,900',\n",
       "  '₹55,990',\n",
       "  '₹65,900',\n",
       "  '₹56,990',\n",
       "  '₹65,900',\n",
       "  '₹56,990',\n",
       "  '₹65,900',\n",
       "  '₹54,900',\n",
       "  '₹49,900'],\n",
       " 'rule_2xmd': ['₹49,900',\n",
       "  '₹49,900',\n",
       "  '₹60,490',\n",
       "  '₹70,900',\n",
       "  '₹56,490',\n",
       "  '₹65,900',\n",
       "  '₹42,999',\n",
       "  '₹52,900',\n",
       "  '₹60,990',\n",
       "  '₹84,900',\n",
       "  '₹54,900',\n",
       "  '₹54,900',\n",
       "  '₹60,490',\n",
       "  '₹70,900',\n",
       "  '₹54,900',\n",
       "  '₹49,900',\n",
       "  '₹55,990',\n",
       "  '₹65,900',\n",
       "  '₹56,990',\n",
       "  '₹65,900',\n",
       "  '₹56,990',\n",
       "  '₹65,900',\n",
       "  '₹54,900',\n",
       "  '₹49,900'],\n",
       " 'rule_6s2z': ['Apple iPhone 11 (64GB) - White',\n",
       "  'Apple iPhone 11 (64GB) - Black',\n",
       "  'Apple iPhone 12 (128GB) - Blue',\n",
       "  'Apple iPhone 12 (64GB) - Black',\n",
       "  'Apple iPhone XR (128GB) - (Product) RED',\n",
       "  'Apple iPhone 12 (128GB) - Green',\n",
       "  'Apple iPhone 11 (128GB) - White',\n",
       "  'Apple iPhone 11 (128GB) - Purple',\n",
       "  'Apple iPhone 12 (128GB) - Black',\n",
       "  'Apple iPhone 11 (128GB) - (Product) RED',\n",
       "  'Apple iPhone 11 (64GB) - Purple',\n",
       "  'Apple iPhone 12 (64GB) - Blue',\n",
       "  'Apple iPhone 12 (64GB) - Green',\n",
       "  'Apple iPhone 12 (64GB) - Purple',\n",
       "  'Apple iPhone 11 (128GB) - Black',\n",
       "  'Apple iPhone 11 (64GB) - (Product) RED'],\n",
       " 'rule_ss7r': ['Apple iPhone 11 (64GB) - White',\n",
       "  'Apple iPhone 11 (64GB) - Black',\n",
       "  'Apple iPhone 12 (128GB) - Blue',\n",
       "  'Apple iPhone 12 (64GB) - Black',\n",
       "  'Apple iPhone XR (128GB) - (Product) RED',\n",
       "  'Apple iPhone 12 (128GB) - Green',\n",
       "  'Apple iPhone 11 (128GB) - White',\n",
       "  'Apple iPhone 11 (128GB) - Purple',\n",
       "  'Apple iPhone 12 (128GB) - Black',\n",
       "  'Apple iPhone 11 (128GB) - (Product) RED',\n",
       "  'Apple iPhone 11 (64GB) - Purple',\n",
       "  'Apple iPhone 12 (64GB) - Blue',\n",
       "  'Apple iPhone 12 (64GB) - Green',\n",
       "  'Apple iPhone 12 (64GB) - Purple',\n",
       "  'Apple iPhone 11 (128GB) - Black',\n",
       "  'Apple iPhone 11 (64GB) - (Product) RED'],\n",
       " 'rule_0f97': ['Apple iPhone 12 (64GB) - Green',\n",
       "  'Apple iPhone 13 (128GB) - Midnight']}"
      ]
     },
     "execution_count": 5,
     "metadata": {},
     "output_type": "execute_result"
    }
   ],
   "source": [
    "scraper.get_result_similar(amz_url,grouped=True)"
   ]
  },
  {
   "cell_type": "code",
   "execution_count": 7,
   "metadata": {},
   "outputs": [],
   "source": [
    "scraper.set_rule_aliases({'rule_2xmd':'Price','rule_ss7r':'Item_Name'})\n",
    "scraper.keep_rules(['rule_2xmd','rule_ss7r'])\n",
    "scraper.save('amz_iPone_info')"
   ]
  },
  {
   "cell_type": "code",
   "execution_count": 8,
   "metadata": {},
   "outputs": [
    {
     "data": {
      "text/plain": [
       "['Redmi 80 cm (32 inches) HD Ready Smart LED TV | L32M6-RA (Black) (2021 Model) | With Android 11',\n",
       " 'Mi 80 cm (32 inches) HD Ready Android Smart LED TV 4A PRO | L32M5-AL (Black)',\n",
       " 'OnePlus 80 cm (32 inches) Y Series HD Ready LED Smart Android TV 32Y1 (Black) (2020 Model)',\n",
       " 'VW 80 cm (32 inches) HD Ready LED Smart TV VW32PRO (Black) (2021 Model)',\n",
       " 'OnePlus 108 cm (43 inches) Y Series Full HD LED Smart Android TV 43Y1 (Black) (2020 Model)',\n",
       " 'OnePlus 80 cm (32 inches) Y Series HD Ready Smart Android LED TV 32 Y1S (Black) (2022 Model)',\n",
       " 'eAirtec 81 cms (32 inches) HD Ready Smart LED TV 32DJSM (Black) (2020 Model)',\n",
       " 'LG 80 cm (32 inches) HD Ready Smart LED TV 32LM563BPTC (Dark Iron Gray) (2020 Model)',\n",
       " 'Acer 80 cm (32 inches) Boundless series HD Ready Android Smart LED TV AR32AP2841HDFL (Black) (2021 Model) | With Frameless...',\n",
       " 'Redmi 108 cm (43 inches) Full HD Smart LED TV | L43M6-RA (Black) (2021 Model) | With Android 11',\n",
       " 'Redmi 108 cm (43 inches) 4K Ultra HD Android Smart LED TV X43 | L43R7-7AIN (Black) (2022 Model)',\n",
       " 'Redmi 126 cm (50 inches) 4K Ultra HD Android Smart LED TV X50|L50M6-RA (Black) (2021 Model)',\n",
       " 'Mi 108 cm (43 inches) Horizon Edition Full HD Android LED TV 4A | L43M6-EI (Black)',\n",
       " 'Vu 80 cm (32 inches) Premium Series Smart LED TV 32UA (Black) (2022 Model)',\n",
       " 'OnePlus 108 cm (43 inches) Y Series Full HD Smart Android LED TV 43 Y1S (Black) (2022 Model)',\n",
       " 'Vu 108 cm (43 Inches) Premium 4K Series Smart Android LED TV 43PM (Grey) (2021 Model)']"
      ]
     },
     "execution_count": 8,
     "metadata": {},
     "output_type": "execute_result"
    }
   ],
   "source": [
    "result = scraper.get_result_similar(\"https://www.amazon.in/s?k=tv&crid=TDDGFGX6DAYM&sprefix=tv%2Caps%2C265&ref=nb_sb_noss_1\",group_by_alias=True)\n",
    "result['Item_Name']"
   ]
  },
  {
   "cell_type": "code",
   "execution_count": 9,
   "metadata": {},
   "outputs": [
    {
     "data": {
      "text/plain": [
       "['₹15,999',\n",
       " '₹24,999',\n",
       " '₹16,999',\n",
       " '₹19,999',\n",
       " '₹15,999',\n",
       " '₹19,999',\n",
       " '₹9,000',\n",
       " '₹18,999',\n",
       " '₹25,999',\n",
       " '₹29,999',\n",
       " '₹16,499',\n",
       " '₹21,999',\n",
       " '₹9,500',\n",
       " '₹13,999',\n",
       " '₹17,499',\n",
       " '₹23,990',\n",
       " '₹13,999',\n",
       " '₹22,990',\n",
       " '₹24,999',\n",
       " '₹34,999',\n",
       " '₹28,999',\n",
       " '₹42,999',\n",
       " '₹37,999',\n",
       " '₹44,999',\n",
       " '₹25,999',\n",
       " '₹26,999',\n",
       " '₹12,999',\n",
       " '₹20,000',\n",
       " '₹26,999',\n",
       " '₹31,999',\n",
       " '₹28,999',\n",
       " '₹50,000']"
      ]
     },
     "execution_count": 9,
     "metadata": {},
     "output_type": "execute_result"
    }
   ],
   "source": [
    "result['Price']"
   ]
  },
  {
   "cell_type": "code",
   "execution_count": 10,
   "metadata": {},
   "outputs": [
    {
     "name": "stdout",
     "output_type": "stream",
     "text": [
      "Redmi 80 cm (32 inches) HD Ready Smart LED TV | L32M6-RA (Black) (2021 Model) | With Android 11 ₹15,999\n",
      "\n",
      "Mi 80 cm (32 inches) HD Ready Android Smart LED TV 4A PRO | L32M5-AL (Black) ₹24,999\n",
      "\n",
      "OnePlus 80 cm (32 inches) Y Series HD Ready LED Smart Android TV 32Y1 (Black) (2020 Model) ₹16,999\n",
      "\n",
      "VW 80 cm (32 inches) HD Ready LED Smart TV VW32PRO (Black) (2021 Model) ₹19,999\n",
      "\n",
      "OnePlus 108 cm (43 inches) Y Series Full HD LED Smart Android TV 43Y1 (Black) (2020 Model) ₹15,999\n",
      "\n",
      "OnePlus 80 cm (32 inches) Y Series HD Ready Smart Android LED TV 32 Y1S (Black) (2022 Model) ₹19,999\n",
      "\n",
      "eAirtec 81 cms (32 inches) HD Ready Smart LED TV 32DJSM (Black) (2020 Model) ₹9,000\n",
      "\n",
      "LG 80 cm (32 inches) HD Ready Smart LED TV 32LM563BPTC (Dark Iron Gray) (2020 Model) ₹18,999\n",
      "\n",
      "Acer 80 cm (32 inches) Boundless series HD Ready Android Smart LED TV AR32AP2841HDFL (Black) (2021 Model) | With Frameless... ₹25,999\n",
      "\n",
      "Redmi 108 cm (43 inches) Full HD Smart LED TV | L43M6-RA (Black) (2021 Model) | With Android 11 ₹29,999\n",
      "\n",
      "Redmi 108 cm (43 inches) 4K Ultra HD Android Smart LED TV X43 | L43R7-7AIN (Black) (2022 Model) ₹16,499\n",
      "\n",
      "Redmi 126 cm (50 inches) 4K Ultra HD Android Smart LED TV X50|L50M6-RA (Black) (2021 Model) ₹21,999\n",
      "\n",
      "Mi 108 cm (43 inches) Horizon Edition Full HD Android LED TV 4A | L43M6-EI (Black) ₹9,500\n",
      "\n",
      "Vu 80 cm (32 inches) Premium Series Smart LED TV 32UA (Black) (2022 Model) ₹13,999\n",
      "\n",
      "OnePlus 108 cm (43 inches) Y Series Full HD Smart Android LED TV 43 Y1S (Black) (2022 Model) ₹17,499\n",
      "\n",
      "Vu 108 cm (43 Inches) Premium 4K Series Smart Android LED TV 43PM (Grey) (2021 Model) ₹23,990\n",
      "\n"
     ]
    }
   ],
   "source": [
    "for x in range(len(result['Item_Name'])):\n",
    "    print(result['Item_Name'][x], result['Price'][x])\n",
    "    print('')"
   ]
  },
  {
   "cell_type": "code",
   "execution_count": 11,
   "metadata": {},
   "outputs": [],
   "source": [
    "# Getting URL of all listing items\n",
    "amz_url = \"https://www.amazon.in/s?k=iphone&crid=3HDYR9NRW33K1&sprefix=iphon%2Caps%2C515&ref=nb_sb_noss_2\";\n",
    "candidate_list = [\"Apple iPhone 12 (64GB) - Green\",\"https://www.amazon.in/gp/slredirect/picassoRedirect.html/ref=pa_sp_atf_aps_sr_pg1_1?ie=UTF8&adId=A05840903D29IVGHXILIR&url=%2FNew-Apple-iPhone-12-64GB%2Fdp%2FB08L5W16HX%2Fref%3Dsr_1_1_sspa%3Fcrid%3D3HDYR9NRW33K1%26keywords%3Diphone%26qid%3D1646825408%26sprefix%3Diphon%252Caps%252C515%26sr%3D8-1-spons%26psc%3D1&qualifier=1646825408&id=4555553805705969&widgetName=sp_atf\"]\n"
   ]
  },
  {
   "cell_type": "code",
   "execution_count": 12,
   "metadata": {},
   "outputs": [
    {
     "name": "stdout",
     "output_type": "stream",
     "text": [
      "['Apple iPhone 11 (64GB) - White', 'Apple iPhone 11 (64GB) - Black', 'Apple iPhone 12 (128GB) - Blue', 'Apple iPhone 12 (64GB) - Black', 'Apple iPhone XR (128GB) - (Product) RED', 'Apple iPhone 12 (128GB) - Green', 'Apple iPhone 11 (128GB) - White', 'Apple iPhone 11 (128GB) - Purple', 'Apple iPhone 12 (128GB) - Black', 'Apple iPhone 11 (128GB) - (Product) RED', 'Apple iPhone 11 (64GB) - Purple', 'Apple iPhone 12 (64GB) - Blue', 'Apple iPhone 12 (64GB) - Green', 'Apple iPhone 12 (64GB) - Purple', 'Apple iPhone 11 (128GB) - Black', 'Apple iPhone 11 (64GB) - (Product) RED', 'Apple iPhone 13 (128GB) - Midnight']\n"
     ]
    }
   ],
   "source": [
    "result = scraper.build(amz_url,candidate_list)\n",
    "print(result)"
   ]
  },
  {
   "cell_type": "code",
   "execution_count": 13,
   "metadata": {},
   "outputs": [
    {
     "data": {
      "text/plain": [
       "{'rule_m3n1': ['Apple iPhone 11 (64GB) - White',\n",
       "  'Apple iPhone 11 (64GB) - Black',\n",
       "  'Apple iPhone 12 (128GB) - Blue',\n",
       "  'Apple iPhone 12 (64GB) - Black',\n",
       "  'Apple iPhone XR (128GB) - (Product) RED',\n",
       "  'Apple iPhone 12 (128GB) - Green',\n",
       "  'Apple iPhone 11 (128GB) - White',\n",
       "  'Apple iPhone 11 (128GB) - Purple',\n",
       "  'Apple iPhone 12 (128GB) - Black',\n",
       "  'Apple iPhone 11 (128GB) - (Product) RED',\n",
       "  'Apple iPhone 11 (64GB) - Purple',\n",
       "  'Apple iPhone 12 (64GB) - Blue',\n",
       "  'Apple iPhone 12 (64GB) - Green',\n",
       "  'Apple iPhone 12 (64GB) - Purple',\n",
       "  'Apple iPhone 11 (128GB) - Black',\n",
       "  'Apple iPhone XR (128GB) - Coral'],\n",
       " 'rule_4rsy': ['Apple iPhone 11 (64GB) - White',\n",
       "  'Apple iPhone 11 (64GB) - Black',\n",
       "  'Apple iPhone 12 (128GB) - Blue',\n",
       "  'Apple iPhone 12 (64GB) - Black',\n",
       "  'Apple iPhone XR (128GB) - (Product) RED',\n",
       "  'Apple iPhone 12 (128GB) - Green',\n",
       "  'Apple iPhone 11 (128GB) - White',\n",
       "  'Apple iPhone 11 (128GB) - Purple',\n",
       "  'Apple iPhone 12 (128GB) - Black',\n",
       "  'Apple iPhone 11 (128GB) - (Product) RED',\n",
       "  'Apple iPhone 11 (64GB) - Purple',\n",
       "  'Apple iPhone 12 (64GB) - Blue',\n",
       "  'Apple iPhone 12 (64GB) - Green',\n",
       "  'Apple iPhone 12 (64GB) - Purple',\n",
       "  'Apple iPhone 11 (128GB) - Black',\n",
       "  'Apple iPhone XR (128GB) - Coral'],\n",
       " 'rule_64uk': ['Apple iPhone 12 (64GB) - Green',\n",
       "  'Apple iPhone 13 (128GB) - Midnight']}"
      ]
     },
     "execution_count": 13,
     "metadata": {},
     "output_type": "execute_result"
    }
   ],
   "source": [
    "scraper.get_result_similar(amz_url,grouped=True)"
   ]
  },
  {
   "cell_type": "code",
   "execution_count": 14,
   "metadata": {},
   "outputs": [],
   "source": [
    "#PDP\n",
    "amz_pdp_url = \"https://www.amazon.in/AmazonBasics-139cm-inch-Ultra-Smart/dp/B087JYRGDG\"\n",
    "extract_fields = [\"AmazonBasics 139cm (55 inch) 4K Ultra HD Smart LED Fire TV AB55U20PS (Black)\",\"₹35,999.00\"]"
   ]
  },
  {
   "cell_type": "code",
   "execution_count": 15,
   "metadata": {},
   "outputs": [
    {
     "data": {
      "text/plain": [
       "['AmazonBasics 139cm (55 inch) 4K Ultra HD Smart LED Fire TV AB55U20PS (Black)',\n",
       " 'Brand: AmazonBasics',\n",
       " 'Save Extra  with 4 offers           …Details\" style=\"line-height: 1.3em !important; max-height: 2.6em;\">\\nNo Cost EMI:\\nAvail No Cost EMI on select cards for orders above ₹3000\\nDetails\\n      \\n       …See All\" style=\"line-height: 1.3em !important; max-height: 2.6em;\">\\nBank Offer (9):\\nGet 10X CashPoints with HDFC Bank MoneyBack+ Credit Cards and 2X Reward Points with MoneyBack Credit Cards\\nSee All\\n          Exchange Offer:  Enter your pincode to view Exchange offer       \\n       …See All\" style=\"line-height: 1.3em !important; max-height: 2.6em;\">\\nPartner Offers (2):\\nEarn 15% back upto ₹200 on minimum order of ₹1000 using Stashfin card. Valid twice per user\\nSee All\\n         See 2 more',\n",
       " '10 Days Replacement           Amazon Delivered          2 Year Warranty Care          No-Contact Delivery',\n",
       " 'Brand-approved installation at the time of delivery. Service may be delayed in regions with CoVID related restrictions. Wall Mount Charges may be charged extra for specific brands.   Details',\n",
       " 'Enhance your purchase',\n",
       " 'About this item    Resolution: 4K Ultra HD (3840 x 2160) | Refresh Rate: 60 hertz | 178° wide viewing angle    Connectivity: 3 HDMI 2.0 ports to connect set top box, Blu Ray players, gaming console | 1 USB 3.0 and 1 USB 2.0 ports to connect hard drives and other USB devices | IR Port to control connected devices like Soundbars, Receivers and Set top boxes    Sound output: Inbuilt 20 Watts Powerful Speakers | Dolby Atmos    Smart TV Features: Fire TV OS | Built in Alexa and Alexa voice controls | DTH Set-Top Box Integration to switch between DTH TV Channels and OTT apps from home screen | Supported Apps: Prime Video | Netflix | Disney + Hotstar | YouTube | Apple TV | 5000+ apps from Fire OS Store | Display Mirroring | 1.95GHz Quad core processor | 1.5GB RAM/DDR    Display: A+ Grade LED panel | Dolby vision | HDR 10 + HLG | Amlogic 9th Generation Imaging Engine | Ultra bright screen | Advance picture processing | Anti-aliasing | Dynamic contrast | Dynamic backlight    Warranty Information: 2 Year Comprehensive Warranty and 3 years warranty on panel for malfunction arising from manufacturing defects    Installation/Wall mounting/demo will be arranged by Amazon Home Services. For warranty and device related issues, go to Your Orders on Amazon.in or Amazon shopping app > Locate your TV order > Select ‘Get Product Support’ and schedule a service. For any other information, please contact Amazon customer support    \\n   Easy returns: This product is eligible for replacement within 10 days of delivery in case of any product defects, damage or features not matching the description provided Made in India   Show More',\n",
       " '₹35,999.00',\n",
       " '₹66,000.00',\n",
       " '₹₹35,999.0035,999.00']"
      ]
     },
     "execution_count": 15,
     "metadata": {},
     "output_type": "execute_result"
    }
   ],
   "source": [
    "result = scraper.build(amz_pdp_url,extract_fields)\n",
    "result"
   ]
  },
  {
   "cell_type": "code",
   "execution_count": 16,
   "metadata": {},
   "outputs": [
    {
     "data": {
      "text/plain": [
       "['AmazonBasics 139cm (55 inch) 4K Ultra HD Smart LED Fire TV AB55U20PS (Black)',\n",
       " '₹35,999.00']"
      ]
     },
     "execution_count": 16,
     "metadata": {},
     "output_type": "execute_result"
    }
   ],
   "source": [
    "scraper.get_result_exact(\"https://www.amazon.in/AmazonBasics-139cm-inch-Ultra-Smart/dp/B087JYRGDG\")"
   ]
  },
  {
   "cell_type": "code",
   "execution_count": 67,
   "metadata": {},
   "outputs": [
    {
     "data": {
      "text/plain": [
       "['OnePlus 80 cm (32 inches) Y Series HD Ready Smart Android LED TV 32 Y1S (Black) (2022 Model)',\n",
       " '₹16,499.00']"
      ]
     },
     "execution_count": 67,
     "metadata": {},
     "output_type": "execute_result"
    }
   ],
   "source": [
    "scraper.get_result_exact(\"https://www.amazon.in/OnePlus-inches-Ready-Smart-Android/dp/B09Q5SWVBJ/ref=sr_1_2_sspa?crid=TDDGFGX6DAYM&keywords=tv&qid=1646825995&sprefix=tv%2Caps%2C265&sr=8-2-spons&psc=1&spLa=ZW5jcnlwdGVkUXVhbGlmaWVyPUEyWkVOUjNSTjg0M0dHJmVuY3J5cHRlZElkPUEwMDM1OTY3Rjk0VjdaRTVVTUxaJmVuY3J5cHRlZEFkSWQ9QTAxNjQ4ODBRVEFLRU1UTEg3VzImd2lkZ2V0TmFtZT1zcF9hdGYmYWN0aW9uPWNsaWNrUmVkaXJlY3QmZG9Ob3RMb2dDbGljaz10cnVl\")"
   ]
  },
  {
   "cell_type": "code",
   "execution_count": 68,
   "metadata": {},
   "outputs": [],
   "source": [
    "amz_pdp_url = \"https://www.amazon.in/AmazonBasics-139cm-inch-Ultra-Smart/dp/B087JYRGDG\"\n",
    "extract_fields = [\"AmazonBasics 139cm (55 inch) 4K Ultra HD Smart LED Fire TV AB55U20PS (Black)\",\"₹35,999.00\",\"₹66,000.00\",\"2,356 ratings\",\"55 inches\"]"
   ]
  },
  {
   "cell_type": "code",
   "execution_count": 69,
   "metadata": {},
   "outputs": [
    {
     "data": {
      "text/plain": [
       "['AmazonBasics 139cm (55 inch) 4K Ultra HD Smart LED Fire TV AB55U20PS (Black)',\n",
       " 'Brand: AmazonBasics',\n",
       " 'Save Extra  with 4 offers           …Details\" style=\"line-height: 1.3em !important; max-height: 2.6em;\">\\nNo Cost EMI:\\nAvail No Cost EMI on select cards for orders above ₹3000\\nDetails\\n      \\n       …See All\" style=\"line-height: 1.3em !important; max-height: 2.6em;\">\\nBank Offer (7):\\nGet 10X CashPoints with HDFC Bank MoneyBack+ Credit Cards and 2X Reward Points with MoneyBack Credit Cards\\nSee All\\n          Exchange Offer:  Up to ₹12,460.00 off on Exchange       \\n       …Details\" style=\"line-height: 1.3em !important; max-height: 2.6em;\">\\nPartner Offers:\\nGet GST  invoice and save up to 28% on business purchases. Sign up for free\\nDetails\\n         See 2 more',\n",
       " '10 Days Replacement           Amazon Delivered          2 Year Warranty Care          No-Contact Delivery',\n",
       " 'Brand-approved installation at the time of delivery. Service may be delayed in regions with CoVID related restrictions. Wall Mount Charges may be charged extra for specific brands.   Details',\n",
       " 'Enhance your purchase',\n",
       " 'About this item    Resolution: 4K Ultra HD (3840 x 2160) | Refresh Rate: 60 hertz | 178° wide viewing angle    Connectivity: 3 HDMI 2.0 ports to connect set top box, Blu Ray players, gaming console | 1 USB 3.0 and 1 USB 2.0 ports to connect hard drives and other USB devices | IR Port to control connected devices like Soundbars, Receivers and Set top boxes    Sound output: Inbuilt 20 Watts Powerful Speakers | Dolby Atmos    Smart TV Features: Fire TV OS | Built in Alexa and Alexa voice controls | DTH Set-Top Box Integration to switch between DTH TV Channels and OTT apps from home screen | Supported Apps: Prime Video | Netflix | Disney + Hotstar | YouTube | Apple TV | 5000+ apps from Fire OS Store | Display Mirroring | 1.95GHz Quad core processor | 1.5GB RAM/DDR    Display: A+ Grade LED panel | Dolby vision | HDR 10 + HLG | Amlogic 9th Generation Imaging Engine | Ultra bright screen | Advance picture processing | Anti-aliasing | Dynamic contrast | Dynamic backlight    Warranty Information: 2 Year Comprehensive Warranty and 3 years warranty on panel for malfunction arising from manufacturing defects    Installation/Wall mounting/demo will be arranged by Amazon Home Services. For warranty and device related issues, go to Your Orders on Amazon.in or Amazon shopping app > Locate your TV order > Select ‘Get Product Support’ and schedule a service. For any other information, please contact Amazon customer support    \\n   Easy returns: This product is eligible for replacement within 10 days of delivery in case of any product defects, damage or features not matching the description provided Made in India   Show More',\n",
       " '₹35,999.00',\n",
       " '4.3 out of 5 stars  (20924)',\n",
       " 'Add to Cart',\n",
       " '₹66,000.00',\n",
       " '₹₹35,999.0035,999.00',\n",
       " '2,356 ratings',\n",
       " '55 inches',\n",
       " 'LED',\n",
       " '3840x2160 pixels',\n",
       " 'Black',\n",
       " '2',\n",
       " 'Smart',\n",
       " '3',\n",
       " 'Yes']"
      ]
     },
     "execution_count": 69,
     "metadata": {},
     "output_type": "execute_result"
    }
   ],
   "source": [
    "scraper.build(amz_pdp_url,extract_fields)"
   ]
  },
  {
   "cell_type": "code",
   "execution_count": 70,
   "metadata": {},
   "outputs": [
    {
     "data": {
      "text/plain": [
       "['AmazonBasics 139cm (55 inch) 4K Ultra HD Smart LED Fire TV AB55U20PS (Black)',\n",
       " '₹23,999.00',\n",
       " '₹35,999.00',\n",
       " '₹66,000.00',\n",
       " '2,356 ratings',\n",
       " '55 inches']"
      ]
     },
     "execution_count": 70,
     "metadata": {},
     "output_type": "execute_result"
    }
   ],
   "source": [
    "scraper.get_result_exact(\"https://www.amazon.in/AmazonBasics-139cm-inch-Ultra-Smart/dp/B087JYRGDG\")"
   ]
  },
  {
   "cell_type": "code",
   "execution_count": 71,
   "metadata": {},
   "outputs": [
    {
     "data": {
      "text/plain": [
       "{'rule_at5p': ['AmazonBasics 139cm (55 inch) 4K Ultra HD Smart LED Fire TV AB55U20PS (Black)'],\n",
       " 'rule_s6rg': ['AmazonBasics 139cm (55 inch) 4K Ultra HD Smart LED Fire TV AB55U20PS (Black)'],\n",
       " 'rule_aoq3': ['AmazonBasics 139cm (55 inch) 4K Ultra HD Smart LED Fire TV AB55U20PS (Black)'],\n",
       " 'rule_o5us': ['AmazonBasics 139cm (55 inch) 4K Ultra HD Smart LED Fire TV AB55U20PS (Black)'],\n",
       " 'rule_wk61': ['AmazonBasics 139cm (55 inch) 4K Ultra HD Smart LED Fire TV AB55U20PS (Black)'],\n",
       " 'rule_z6h2': ['AmazonBasics 139cm (55 inch) 4K Ultra HD Smart LED Fire TV AB55U20PS (Black)'],\n",
       " 'rule_bcgb': ['AmazonBasics 139cm (55 inch) 4K Ultra HD Smart LED Fire TV AB55U20PS (Black)'],\n",
       " 'rule_w1e3': ['AmazonBasics 139cm (55 inch) 4K Ultra HD Smart LED Fire TV AB55U20PS (Black)'],\n",
       " 'rule_8piy': ['₹35,999.00'],\n",
       " 'rule_9n7t': ['₹35,999.00'],\n",
       " 'rule_q3mr': ['₹35,999.00'],\n",
       " 'rule_wzgf': ['₹35,999.00'],\n",
       " 'rule_8qir': ['₹35,999.00'],\n",
       " 'rule_qc6h': ['₹35,999.00'],\n",
       " 'rule_s1f5': ['₹35,999.00'],\n",
       " 'rule_ukx7': ['₹35,999.00'],\n",
       " 'rule_jun3': ['₹35,999.00'],\n",
       " 'rule_g3ue': ['₹35,999.00'],\n",
       " 'rule_flkz': ['₹66,000.00'],\n",
       " 'rule_5ugn': ['₹66,000.00'],\n",
       " 'rule_5f19': ['2,356 ratings'],\n",
       " 'rule_qr6f': ['2,356 ratings'],\n",
       " 'rule_k7d2': ['55 inches'],\n",
       " 'rule_ngvr': ['55 inches'],\n",
       " 'rule_6zvs': ['55 inches'],\n",
       " 'rule_lw2t': ['55 inches'],\n",
       " 'rule_w1mt': ['55 inches'],\n",
       " 'rule_i4iv': ['55 inches']}"
      ]
     },
     "execution_count": 71,
     "metadata": {},
     "output_type": "execute_result"
    }
   ],
   "source": [
    "scraper.get_result_exact(\"https://www.amazon.in/AmazonBasics-139cm-inch-Ultra-Smart/dp/B087JYRGDG\",grouped=True)"
   ]
  },
  {
   "cell_type": "code",
   "execution_count": 72,
   "metadata": {},
   "outputs": [
    {
     "data": {
      "text/plain": [
       "{'rule_at5p': ['AmazonBasics 139cm (55 inch) 4K Ultra HD Smart LED Fire TV AB55U20PS (Black)'],\n",
       " 'rule_8piy': ['₹23,999.00'],\n",
       " 'rule_5f19': ['2,356 ratings'],\n",
       " 'rule_k7d2': ['55 inches']}"
      ]
     },
     "execution_count": 72,
     "metadata": {},
     "output_type": "execute_result"
    }
   ],
   "source": [
    "scraper.keep_rules(['rule_at5p','rule_8piy','rule_5f19','rule_k7d2']) #remove_rules.\n",
    "scraper.get_result_exact(\"https://www.amazon.in/AmazonBasics-139cm-inch-Ultra-Smart/dp/B087JYRGDG\",grouped=True)\n"
   ]
  },
  {
   "cell_type": "code",
   "execution_count": null,
   "metadata": {},
   "outputs": [],
   "source": []
  }
 ],
 "metadata": {
  "kernelspec": {
   "display_name": "Python 3",
   "language": "python",
   "name": "python3"
  },
  "language_info": {
   "codemirror_mode": {
    "name": "ipython",
    "version": 3
   },
   "file_extension": ".py",
   "mimetype": "text/x-python",
   "name": "python",
   "nbconvert_exporter": "python",
   "pygments_lexer": "ipython3",
   "version": "3.7.4"
  }
 },
 "nbformat": 4,
 "nbformat_minor": 2
}
