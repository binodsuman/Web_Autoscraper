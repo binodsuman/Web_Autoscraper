{
 "cells": [
  {
   "cell_type": "code",
   "execution_count": 1,
   "metadata": {},
   "outputs": [
    {
     "name": "stdout",
     "output_type": "stream",
     "text": [
      "Requirement already satisfied: flask in /Users/binod/Documents/software/anaconda/anaconda3/lib/python3.7/site-packages (1.1.1)\n",
      "Requirement already satisfied: Werkzeug>=0.15 in /Users/binod/Documents/software/anaconda/anaconda3/lib/python3.7/site-packages (from flask) (0.16.0)\n",
      "Requirement already satisfied: itsdangerous>=0.24 in /Users/binod/Documents/software/anaconda/anaconda3/lib/python3.7/site-packages (from flask) (1.1.0)\n",
      "Requirement already satisfied: click>=5.1 in /Users/binod/Documents/software/anaconda/anaconda3/lib/python3.7/site-packages (from flask) (7.0)\n",
      "Requirement already satisfied: Jinja2>=2.10.1 in /Users/binod/Documents/software/anaconda/anaconda3/lib/python3.7/site-packages (from flask) (2.11.2)\n",
      "Requirement already satisfied: MarkupSafe>=0.23 in /Users/binod/Documents/software/anaconda/anaconda3/lib/python3.7/site-packages (from Jinja2>=2.10.1->flask) (1.1.1)\n",
      "\u001b[33mWARNING: You are using pip version 20.3.3; however, version 22.0.4 is available.\n",
      "You should consider upgrading via the '/Users/binod/Documents/software/anaconda/anaconda3/bin/python -m pip install --upgrade pip' command.\u001b[0m\n"
     ]
    }
   ],
   "source": [
    "!pip install flask"
   ]
  },
  {
   "cell_type": "code",
   "execution_count": 1,
   "metadata": {},
   "outputs": [],
   "source": [
    "from autoscraper import AutoScraper\n",
    "from flask import Flask, request"
   ]
  },
  {
   "cell_type": "code",
   "execution_count": 2,
   "metadata": {},
   "outputs": [],
   "source": [
    "amazon_scraper = AutoScraper()\n",
    "amazon_scraper.load('amz_pdp_2')\n",
    "app = Flask(__name__)"
   ]
  },
  {
   "cell_type": "code",
   "execution_count": 3,
   "metadata": {},
   "outputs": [],
   "source": [
    "scraper = AutoScraper()"
   ]
  },
  {
   "cell_type": "code",
   "execution_count": 4,
   "metadata": {},
   "outputs": [],
   "source": [
    "scraper.load('amz_pdp_2')"
   ]
  },
  {
   "cell_type": "code",
   "execution_count": 5,
   "metadata": {},
   "outputs": [],
   "source": [
    "def _aggregate_result(result):\n",
    "    final_result = []\n",
    "    print(list(result.values())[0])\n",
    "    for i in range(len(list(result.values())[0])):\n",
    "        try:\n",
    "            \n",
    "            final_result.append({alias: result[alias][i] for alias in result})\n",
    "        except:\n",
    "            pass\n",
    "    return final_result"
   ]
  },
  {
   "cell_type": "code",
   "execution_count": 6,
   "metadata": {},
   "outputs": [],
   "source": [
    "def get_amazon_result(url):\n",
    "    result = scraper.get_result_similar(url, group_by_alias=True)\n",
    "    return _aggregate_result(result)"
   ]
  },
  {
   "cell_type": "code",
   "execution_count": 7,
   "metadata": {},
   "outputs": [],
   "source": [
    "@app.route('/', methods=['GET'])\n",
    "def search_api():\n",
    "    url = request.args.get('q')\n",
    "    print(url)\n",
    "    return dict(result=get_amazon_result(url))"
   ]
  },
  {
   "cell_type": "code",
   "execution_count": null,
   "metadata": {},
   "outputs": [
    {
     "name": "stdout",
     "output_type": "stream",
     "text": [
      " * Serving Flask app \"__main__\" (lazy loading)\n",
      " * Environment: production\n",
      "   WARNING: This is a development server. Do not use it in a production deployment.\n",
      "   Use a production WSGI server instead.\n",
      " * Debug mode: off\n"
     ]
    },
    {
     "name": "stderr",
     "output_type": "stream",
     "text": [
      " * Running on http://0.0.0.0:8080/ (Press CTRL+C to quit)\n",
      "127.0.0.1 - - [25/Mar/2022 09:52:40] \"\u001b[33mGET /q=https://www.amazon.in/New-Apple-iPhone-11-128GB/dp/B08L8BV998/ref=sr_1_8?crid=1DR77OB33TE8Q HTTP/1.1\u001b[0m\" 404 -\n"
     ]
    },
    {
     "name": "stdout",
     "output_type": "stream",
     "text": [
      "https://www.amazon.in/New-Apple-iPhone-11-128GB/dp/B08L8BV998/ref=sr_1_8?crid=1DR77OB33TE8Q\n"
     ]
    },
    {
     "name": "stderr",
     "output_type": "stream",
     "text": [
      "127.0.0.1 - - [25/Mar/2022 09:52:54] \"\u001b[37mGET /?q=https://www.amazon.in/New-Apple-iPhone-11-128GB/dp/B08L8BV998/ref=sr_1_8?crid=1DR77OB33TE8Q HTTP/1.1\u001b[0m\" 200 -\n"
     ]
    },
    {
     "name": "stdout",
     "output_type": "stream",
     "text": [
      "['Apple iPhone 11 (128GB) - (Product) RED', 'Visit the Apple Store', 'Save Extra  with 4 offers     \\n       …See All\" style=\"line-height: 1.3em !important; max-height: 2.6em;\">\\nBank Offer (8):\\nFlat INR 4000 Instant Discount on SBI Credit Card Transactions. Minimum purchase value INR 32940\\nSee All\\n              …Details\" style=\"line-height: 1.3em !important; max-height: 2.6em;\">\\nNo Cost EMI:\\nAvail No Cost EMI on select cards for orders above ₹3000\\nDetails\\n        Exchange Offer:  Up to ₹18,650.00 off on Exchange       \\n       …See All\" style=\"line-height: 1.3em !important; max-height: 2.6em;\">\\nPartner Offers (2):\\nEarn 15% back upto ₹200 on minimum order of ₹1000 using Stashfin card. Valid twice per user\\nSee All\\n         See 2 more', 'Enhance your purchase', 'Model Name   IPhone 11     Wireless Carrier   Unlocked for All Carriers     Brand   Apple     Form Factor   Smartphone     Memory Storage Capacity   128 GB    \\n            function logProductOverviewMetric(metric) {\\n                if(typeof window.csa !== \\'undefined\\') {\\n                    var myEvents = csa(\"Events\", {producerId: \"dppinfo\"});\\n                    myEvents(\"log\", {\\n                            schemaId: \"dppinfo.productOverviewClientSideEvents.1\",\\n                            eventName: metric\\n                        },\\n                        {\\n                            ent:\\'all\\'\\n                        });\\n                }\\n            }\\n            logProductOverviewMetric(\\'productOverviewDesktopRendered\\');', 'About this item    6.1-inch (15.4 cm diagonal) Liquid Retina HD LCD display    Water and dust resistant (2 meters for up to 30 minutes, IP68)    Dual-camera system with 12MP Ultra Wide and Wide cameras; Night mode, Portrait mode, and 4K video up to 60fps    12MP TrueDepth front camera with Portrait mode, 4K video, and Slo-Mo    Face ID for secure authentication    A13 Bionic chip with third-generation Neural Engine    Fast-charge capable    \\n   iOS 15 packs new features to do more with iPhone than ever before iOS 14 with redesigned widgets on the Home screen, all-new App Library, App Clips, and more   Show More']\n"
     ]
    }
   ],
   "source": [
    "if __name__ == '__main__':\n",
    "    app.run(port=8080, host='0.0.0.0')"
   ]
  },
  {
   "cell_type": "code",
   "execution_count": null,
   "metadata": {},
   "outputs": [],
   "source": []
  }
 ],
 "metadata": {
  "kernelspec": {
   "display_name": "Python 3",
   "language": "python",
   "name": "python3"
  },
  "language_info": {
   "codemirror_mode": {
    "name": "ipython",
    "version": 3
   },
   "file_extension": ".py",
   "mimetype": "text/x-python",
   "name": "python",
   "nbconvert_exporter": "python",
   "pygments_lexer": "ipython3",
   "version": "3.7.4"
  }
 },
 "nbformat": 4,
 "nbformat_minor": 2
}
