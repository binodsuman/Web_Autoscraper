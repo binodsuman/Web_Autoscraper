{
 "cells": [
  {
   "cell_type": "code",
   "execution_count": 1,
   "metadata": {},
   "outputs": [],
   "source": [
    "from autoscraper import AutoScraper"
   ]
  },
  {
   "cell_type": "code",
   "execution_count": 2,
   "metadata": {},
   "outputs": [],
   "source": [
    "scraper = AutoScraper()"
   ]
  },
  {
   "cell_type": "code",
   "execution_count": 3,
   "metadata": {},
   "outputs": [],
   "source": [
    "amz_pdp_url = \"https://www.amazon.com/Apple-iPhone-256GB-Midnight-Green/dp/B08BHXC5ZS/ref=sr_1_1?crid=97IM6EZG8ZY0&keywords=iphone&qid=1647153955&sprefix=ipho%2Caps%2C265&sr=8-1\";\n",
    "candidate_list = [\"Apple iPhone 11 Pro, 256GB, Midnight Green - Fully Unlocked (Renewed Premium)\",\"$579.00\"]\n",
    "\n"
   ]
  },
  {
   "cell_type": "code",
   "execution_count": 5,
   "metadata": {},
   "outputs": [
    {
     "name": "stdout",
     "output_type": "stream",
     "text": [
      "['Apple iPhone 11 Pro, 256GB, Midnight Green - Fully Unlocked (Renewed Premium)', 'Visit the Amazon Renewed Store', 'A like-new experience. Backed by a one-year satisfaction guarantee.  This Renewed Premium product is shipped and sold by Amazon and has been certified by Amazon to work and look like new. With at least 90% battery life, it comes in deluxe, Amazon-branded packaging and is backed by a one-year warranty and technical support. See terms here.', 'Enhance your purchase          Trade-in and save    Get up to  $511.00           Get up to  $511.00  added to your Amazon.com Gift Card balance when you trade in your old device(s)  \\n    Start your trade-in         \\n                        P.now().execute(function () {\\n                            if(typeof window.csa !== \\'undefined\\') {\\n                                var myEvents = csa(\"Events\", {producerId: \"dp-rpcx\"});\\n                                myEvents(\"log\", {\\n                                    schemaId: \"dpRpcx.CSALoggingSchema.5\",\\n                                    eventName: \\'twisterPlus.ccFeaturePosition.\\' + \"tradeInInstantSavingsCC\",\\n                                    valueToLog: \"1\"\\n                                },\\n                                {\\n                                    ent:\\'all\\'\\n                                });\\n                            }\\n                            if (ue && ue.count) {\\n                                ue.count(\\'twisterPlus.ccFeaturePosition.\\' + \"tradeInInstantSavingsCC\", \"1\");\\n                            }\\n                        });', 'About this item    This phone is unlocked and compatible with any carrier of choice on GSM and CDMA networks (e.g. AT&T, T-Mobile, Sprint, Verizon, US Cellular, Cricket, Metro, Tracfone, Mint Mobile, etc.).    Tested for battery health and guaranteed to come with a battery that exceeds 90% of original capacity.    Backed by a one-year satisfaction guarantee, with free access to Amazon’s Technical Support team throughout the full year and ability to replace or return the product if it does not work as expected.    Includes a brand new, generic charging cable that is certified Mfi (Made for iPhone) and a brand new, generic wall plug that is UL certified for performance and safety. Also includes a SIM tray removal tool but does not come with headphones or a SIM card.    Inspected and guaranteed to have minimal cosmetic damage, which is not noticeable when the device is held at arm’s length. Successfully passed a full diagnostic test which ensures like-new functionality and removal of any prior-user personal information.', '{\"widgetName\":\"serviceCapabilties\"}', '$579.00', '$11.28', '$249.25', '$839.53', '$645.39']\n"
     ]
    }
   ],
   "source": [
    "result = scraper.build(amz_pdp_url,candidate_list)\n",
    "print(result)"
   ]
  },
  {
   "cell_type": "code",
   "execution_count": 6,
   "metadata": {},
   "outputs": [
    {
     "data": {
      "text/plain": [
       "['Apple iPhone 11 Pro, 256GB, Midnight Green - Fully Unlocked (Renewed Premium)',\n",
       " '$579.00']"
      ]
     },
     "execution_count": 6,
     "metadata": {},
     "output_type": "execute_result"
    }
   ],
   "source": [
    "scraper.get_result_exact(amz_pdp_url)"
   ]
  },
  {
   "cell_type": "code",
   "execution_count": 7,
   "metadata": {},
   "outputs": [
    {
     "data": {
      "text/plain": [
       "['(Renewed Premium) Apple iPhone 11 Pro Max, 64GB, Midnight Green - Unlocked',\n",
       " '$639.00']"
      ]
     },
     "execution_count": 7,
     "metadata": {},
     "output_type": "execute_result"
    }
   ],
   "source": [
    "pdp_page_2 = \"https://www.amazon.com/Apple-iPhone-64GB-Midnight-Green/dp/B08BHXG144/ref=sr_1_4?crid=97IM6EZG8ZY0&keywords=iphone&qid=1647153955&sprefix=ipho%2Caps%2C265&sr=8-4\"\n",
    "scraper.get_result_exact(pdp_page_2)"
   ]
  },
  {
   "cell_type": "code",
   "execution_count": 17,
   "metadata": {},
   "outputs": [],
   "source": [
    "amz_pdp_url = \"https://www.amazon.com/Apple-iPhone-256GB-Midnight-Green/dp/B08BHXC5ZS/ref=sr_1_1?crid=97IM6EZG8ZY0&keywords=iphone&qid=1647153955&sprefix=ipho%2Caps%2C265&sr=8-1\";\n",
    "candidate_list = [\"Apple iPhone 11 Pro, 256GB, Midnight Green - Fully Unlocked (Renewed Premium)\",\"$579.00\",\" 428 ratings\", \"Midnight Green\",\"IPhone 11 Pro\",\"Unlocked for All Carriers\",\"Apple\",\"256 GB\",\"IOS 12\"]\n",
    "\n"
   ]
  },
  {
   "cell_type": "code",
   "execution_count": 18,
   "metadata": {},
   "outputs": [
    {
     "name": "stdout",
     "output_type": "stream",
     "text": [
      "['Apple iPhone 11 Pro, 256GB, Midnight Green - Fully Unlocked (Renewed Premium)', 'Visit the Amazon Renewed Store', 'A like-new experience. Backed by a one-year satisfaction guarantee.  This Renewed Premium product is shipped and sold by Amazon and has been certified by Amazon to work and look like new. With at least 90% battery life, it comes in deluxe, Amazon-branded packaging and is backed by a one-year warranty and technical support. See terms here.', 'Enhance your purchase          Trade-in and save    Get up to  $511.00           Get up to  $511.00  added to your Amazon.com Gift Card balance when you trade in your old device(s)  \\n    Start your trade-in         \\n                        P.now().execute(function () {\\n                            if(typeof window.csa !== \\'undefined\\') {\\n                                var myEvents = csa(\"Events\", {producerId: \"dp-rpcx\"});\\n                                myEvents(\"log\", {\\n                                    schemaId: \"dpRpcx.CSALoggingSchema.5\",\\n                                    eventName: \\'twisterPlus.ccFeaturePosition.\\' + \"tradeInInstantSavingsCC\",\\n                                    valueToLog: \"1\"\\n                                },\\n                                {\\n                                    ent:\\'all\\'\\n                                });\\n                            }\\n                            if (ue && ue.count) {\\n                                ue.count(\\'twisterPlus.ccFeaturePosition.\\' + \"tradeInInstantSavingsCC\", \"1\");\\n                            }\\n                        });', 'About this item    This phone is unlocked and compatible with any carrier of choice on GSM and CDMA networks (e.g. AT&T, T-Mobile, Sprint, Verizon, US Cellular, Cricket, Metro, Tracfone, Mint Mobile, etc.).    Tested for battery health and guaranteed to come with a battery that exceeds 90% of original capacity.    Backed by a one-year satisfaction guarantee, with free access to Amazon’s Technical Support team throughout the full year and ability to replace or return the product if it does not work as expected.    Includes a brand new, generic charging cable that is certified Mfi (Made for iPhone) and a brand new, generic wall plug that is UL certified for performance and safety. Also includes a SIM tray removal tool but does not come with headphones or a SIM card.    Inspected and guaranteed to have minimal cosmetic damage, which is not noticeable when the device is held at arm’s length. Successfully passed a full diagnostic test which ensures like-new functionality and removal of any prior-user personal information.', '{\"widgetName\":\"serviceCapabilties\"}', '$579.00', '$11.28', '$249.25', '$839.53', '$645.39', '428 ratings', '9.09 x 8.54 x 1.69 inches', '15.5 ounces', 'B08BHXC5ZS', 'A2160', '/* \\n    * Fix for UDP-1061. Average customer reviews has a small extra line on hover \\n    * https://omni-grok.amazon.com/xref/src/appgroup/websiteTemplates/retail/SoftlinesDetailPageAssets/udp-intl-lock/src/legacy.css?indexName=WebsiteTemplates#40\\n    */\\n    .noUnderline a:hover { \\n        text-decoration: none; \\n    }\\n\\n\\n \\n  4.4 out of 5 stars    \\n    428 ratings   \\n                    P.when(\\'A\\', \\'ready\\').execute(function(A) {\\n                        A.declarative(\\'acrLink-click-metrics\\', \\'click\\', { \"allowLinkDefault\" : true }, function(event){\\n                            if(window.ue) {\\n                                ue.count(\"acrLinkClickCount\", (ue.count(\"acrLinkClickCount\") || 0) + 1);\\n                            }\\n                        });\\n                    });\\n                \\n\\n            P.when(\\'A\\', \\'cf\\').execute(function(A) {\\n                A.declarative(\\'acrStarsLink-click-metrics\\', \\'click\\', { \"allowLinkDefault\" : true },  function(event){\\n                    if(window.ue) {\\n                        ue.count(\"acrStarsLinkWithPopoverClickCount\", (ue.count(\"acrStarsLinkWithPopoverClickCount\") || 0) + 1);\\n                    }\\n                });\\n            });\\n        \\n\\n 4.4 out of 5 stars', 'IOS 12', '256 GB', 'Bluetooth, Wi-Fi', 'Wireless', 'Smart Phone', 'Midnight Green', '458', 'Charging cable and block', 'Apple Computer', 'USA', 'June 17, 2020', 'IPhone 11 Pro', 'Unlocked for All Carriers', 'Apple', '4G', 'Dual SIM', '256GB', 'Unlocked', 'Renewed Premium', 'TVs']\n"
     ]
    }
   ],
   "source": [
    "scraper = AutoScraper()\n",
    "result = scraper.build(amz_pdp_url,candidate_list)\n",
    "print(result)"
   ]
  },
  {
   "cell_type": "code",
   "execution_count": null,
   "metadata": {},
   "outputs": [],
   "source": []
  },
  {
   "cell_type": "code",
   "execution_count": 19,
   "metadata": {},
   "outputs": [
    {
     "data": {
      "text/plain": [
       "{'rule_3362': ['Apple iPhone 11 Pro, 256GB, Midnight Green - Fully Unlocked (Renewed Premium)'],\n",
       " 'rule_pmku': ['Apple iPhone 11 Pro, 256GB, Midnight Green - Fully Unlocked (Renewed Premium)'],\n",
       " 'rule_kjdg': ['$579.00'],\n",
       " 'rule_22dv': ['$579.00'],\n",
       " 'rule_t1bd': ['$579.00'],\n",
       " 'rule_as5z': ['$579.00'],\n",
       " 'rule_rbhq': ['$579.00'],\n",
       " 'rule_3vw0': ['$579.00'],\n",
       " 'rule_vqsg': ['$579.00'],\n",
       " 'rule_cns0': ['428 ratings'],\n",
       " 'rule_3ztg': ['428 ratings'],\n",
       " 'rule_694y': ['Midnight Green'],\n",
       " 'rule_49ms': ['Midnight Green'],\n",
       " 'rule_q3dr': ['Midnight Green'],\n",
       " 'rule_qwms': ['Midnight Green'],\n",
       " 'rule_obb7': ['IPhone 11 Pro'],\n",
       " 'rule_al18': ['Unlocked for All Carriers'],\n",
       " 'rule_oush': [],\n",
       " 'rule_h402': [],\n",
       " 'rule_9rsa': [],\n",
       " 'rule_mcxh': [],\n",
       " 'rule_pdy8': ['Apple'],\n",
       " 'rule_zx6o': ['256 GB'],\n",
       " 'rule_xqbi': ['256 GB'],\n",
       " 'rule_8r56': ['IOS 12'],\n",
       " 'rule_sovl': ['IOS 12']}"
      ]
     },
     "execution_count": 19,
     "metadata": {},
     "output_type": "execute_result"
    }
   ],
   "source": [
    "scraper.get_result_exact(amz_pdp_url,grouped=True)"
   ]
  },
  {
   "cell_type": "code",
   "execution_count": 21,
   "metadata": {},
   "outputs": [
    {
     "data": {
      "text/plain": [
       "{'rule_3362': ['Apple iPhone 11 Pro, 256GB, Midnight Green - Fully Unlocked (Renewed Premium)'],\n",
       " 'rule_kjdg': ['$579.00'],\n",
       " 'rule_cns0': ['428 ratings'],\n",
       " 'rule_694y': ['Midnight Green'],\n",
       " 'rule_obb7': ['IPhone 11 Pro'],\n",
       " 'rule_al18': ['Unlocked for All Carriers'],\n",
       " 'rule_pdy8': ['Apple'],\n",
       " 'rule_zx6o': ['256 GB'],\n",
       " 'rule_8r56': ['IOS 12']}"
      ]
     },
     "execution_count": 21,
     "metadata": {},
     "output_type": "execute_result"
    }
   ],
   "source": [
    "scraper.set_rule_aliases({\"rule_3362\":\"Title\",\"rule_kjdg\":\"Price\",\"rule_cns0\":\"Ratings\",\"rule_694y\":\"Color\",\"rule_obb7\":\"Model Name\",\"rule_al18\":\"Wireless Carrier\",\"rule_pdy8\":\"Brand\",\"rule_zx6o\":\"Memory Storage Capacity\",\"rule_8r56\":\"Operating\"})\n",
    "scraper.keep_rules([\"rule_3362\",\"rule_kjdg\",\"rule_cns0\",\"rule_694y\",\"rule_obb7\",\"rule_al18\",\"rule_pdy8\",\"rule_zx6o\",\"rule_8r56\"])\n",
    "\n",
    "scraper.get_result_exact(amz_pdp_url,grouped=True)\n"
   ]
  },
  {
   "cell_type": "code",
   "execution_count": 22,
   "metadata": {},
   "outputs": [
    {
     "data": {
      "text/plain": [
       "{'Title': ['Apple iPhone 11 Pro, 256GB, Midnight Green - Fully Unlocked (Renewed Premium)'],\n",
       " 'Price': ['$579.00'],\n",
       " 'Ratings': ['428 ratings'],\n",
       " 'Color': ['Midnight Green'],\n",
       " 'Model Name': ['IPhone 11 Pro'],\n",
       " 'Wireless Carrier': ['Unlocked for All Carriers'],\n",
       " 'Brand': ['Apple'],\n",
       " 'Memory Storage Capacity': ['256 GB'],\n",
       " 'Operating': ['IOS 12']}"
      ]
     },
     "execution_count": 22,
     "metadata": {},
     "output_type": "execute_result"
    }
   ],
   "source": [
    "scraper.get_result_exact(amz_pdp_url,group_by_alias=True)"
   ]
  },
  {
   "cell_type": "code",
   "execution_count": 23,
   "metadata": {},
   "outputs": [
    {
     "data": {
      "text/plain": [
       "{'Title': ['(Renewed Premium) Apple iPhone 11 Pro Max, 64GB, Midnight Green - Unlocked'],\n",
       " 'Price': ['$639.00'],\n",
       " 'Ratings': [],\n",
       " 'Color': [],\n",
       " 'Model Name': ['IPhone 11 Pro Max'],\n",
       " 'Wireless Carrier': ['Unlocked for All Carriers'],\n",
       " 'Brand': ['Apple'],\n",
       " 'Memory Storage Capacity': [],\n",
       " 'Operating': []}"
      ]
     },
     "execution_count": 23,
     "metadata": {},
     "output_type": "execute_result"
    }
   ],
   "source": [
    "scraper.get_result_exact(pdp_page_2,group_by_alias=True)\n"
   ]
  },
  {
   "cell_type": "code",
   "execution_count": 24,
   "metadata": {},
   "outputs": [
    {
     "data": {
      "text/plain": [
       "{'Title': ['Apple iPhone 12 Pro Max, 256GB, Pacific Blue - Unlocked (Renewed Premium)'],\n",
       " 'Price': ['$1,049.00'],\n",
       " 'Ratings': [],\n",
       " 'Color': [],\n",
       " 'Model Name': ['IPhone 12 Pro Max'],\n",
       " 'Wireless Carrier': ['Unlocked'],\n",
       " 'Brand': ['Apple'],\n",
       " 'Memory Storage Capacity': [],\n",
       " 'Operating': []}"
      ]
     },
     "execution_count": 24,
     "metadata": {},
     "output_type": "execute_result"
    }
   ],
   "source": [
    "pdp_page_3 = \"https://www.amazon.com/Apple-iPhone-12-Pro-Max/dp/B09JFFG8D7/ref=sr_1_5?crid=97IM6EZG8ZY0&keywords=iphone&qid=1647153955&sprefix=ipho%2Caps%2C265&sr=8-5\"\n",
    "scraper.get_result_exact(pdp_page_3,group_by_alias=True)"
   ]
  },
  {
   "cell_type": "code",
   "execution_count": null,
   "metadata": {},
   "outputs": [],
   "source": []
  }
 ],
 "metadata": {
  "kernelspec": {
   "display_name": "Python 3",
   "language": "python",
   "name": "python3"
  },
  "language_info": {
   "codemirror_mode": {
    "name": "ipython",
    "version": 3
   },
   "file_extension": ".py",
   "mimetype": "text/x-python",
   "name": "python",
   "nbconvert_exporter": "python",
   "pygments_lexer": "ipython3",
   "version": "3.7.4"
  }
 },
 "nbformat": 4,
 "nbformat_minor": 2
}
