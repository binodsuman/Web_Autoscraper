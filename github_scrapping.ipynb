{
 "cells": [
  {
   "cell_type": "code",
   "execution_count": 5,
   "metadata": {},
   "outputs": [],
   "source": [
    "from autoscraper import AutoScraper"
   ]
  },
  {
   "cell_type": "code",
   "execution_count": 6,
   "metadata": {},
   "outputs": [],
   "source": [
    "scraper = AutoScraper()"
   ]
  },
  {
   "cell_type": "code",
   "execution_count": 7,
   "metadata": {},
   "outputs": [],
   "source": [
    "github_url = \"https://github.com/binodsuman?tab=repositories\";\n",
    "candidate_list = [\"14\",\"Keras_Deep_Learning\"]"
   ]
  },
  {
   "cell_type": "code",
   "execution_count": 8,
   "metadata": {},
   "outputs": [
    {
     "data": {
      "text/plain": [
       "['1',\n",
       " '4',\n",
       " '11',\n",
       " '2',\n",
       " '3',\n",
       " '2,079',\n",
       " '1,100',\n",
       " '6',\n",
       " '14',\n",
       " '5',\n",
       " 'Java_AirQuality',\n",
       " 'Jaeger',\n",
       " 'kafka-spark-streaming-integration',\n",
       " 'kafka-spark-integration',\n",
       " 'Kafka_Flink_Integration',\n",
       " 'spring_youtube',\n",
       " 'spring',\n",
       " 'Java',\n",
       " 'azure_ml',\n",
       " 'MachineLearningNotebooks',\n",
       " 'ml-basics',\n",
       " 'SpringBoot_VisualStudioCode',\n",
       " 'Spark_ML',\n",
       " 'Spark',\n",
       " 'cerberus',\n",
       " 'AWS',\n",
       " 'dataset',\n",
       " 'deep-learning',\n",
       " 'kafka_python',\n",
       " 'Keras_Deep_Learning',\n",
       " 'rasa_chatbot',\n",
       " 'mapreduce_python',\n",
       " 'KMeans_Java',\n",
       " 'hadoop',\n",
       " 'tensorflow',\n",
       " 'mongodb',\n",
       " 'nlp',\n",
       " 'Spring_ConfigurationProperties',\n",
       " 'Spring_Boot_Data_JPA-',\n",
       " 'timeseries_ml_python']"
      ]
     },
     "execution_count": 8,
     "metadata": {},
     "output_type": "execute_result"
    }
   ],
   "source": [
    "result = scraper.build(github_url,candidate_list)\n",
    "result"
   ]
  },
  {
   "cell_type": "code",
   "execution_count": 17,
   "metadata": {},
   "outputs": [
    {
     "data": {
      "text/plain": [
       "{'rule_5x72': ['1',\n",
       "  '4',\n",
       "  '11',\n",
       "  '2',\n",
       "  '1',\n",
       "  '3',\n",
       "  '2,078',\n",
       "  '1,097',\n",
       "  '1',\n",
       "  '3',\n",
       "  '6',\n",
       "  '3',\n",
       "  '2',\n",
       "  '3',\n",
       "  '14',\n",
       "  '5',\n",
       "  '1',\n",
       "  '1',\n",
       "  '1',\n",
       "  '4',\n",
       "  '1'],\n",
       " 'rule_6lpx': ['Java_AirQuality',\n",
       "  'Jaeger',\n",
       "  'kafka-spark-streaming-integration',\n",
       "  'kafka-spark-integration',\n",
       "  'Kafka_Flink_Integration',\n",
       "  'spring_youtube',\n",
       "  'spring',\n",
       "  'Java',\n",
       "  'azure_ml',\n",
       "  'MachineLearningNotebooks',\n",
       "  'ml-basics',\n",
       "  'SpringBoot_VisualStudioCode',\n",
       "  'Spark_ML',\n",
       "  'Spark',\n",
       "  'cerberus',\n",
       "  'AWS',\n",
       "  'dataset',\n",
       "  'deep-learning',\n",
       "  'kafka_python',\n",
       "  'Keras_Deep_Learning',\n",
       "  'rasa_chatbot',\n",
       "  'mapreduce_python',\n",
       "  'KMeans_Java',\n",
       "  'hadoop',\n",
       "  'tensorflow',\n",
       "  'mongodb',\n",
       "  'nlp',\n",
       "  'Spring_ConfigurationProperties',\n",
       "  'Spring_Boot_Data_JPA-',\n",
       "  'timeseries_ml_python']}"
      ]
     },
     "execution_count": 17,
     "metadata": {},
     "output_type": "execute_result"
    }
   ],
   "source": [
    "scraper.get_result_similar(github_url,grouped=True)"
   ]
  },
  {
   "cell_type": "code",
   "execution_count": 19,
   "metadata": {},
   "outputs": [],
   "source": [
    "scraper.set_rule_aliases({'rule_5x72':'Stars','rule_6lpx':'Title'})\n",
    "scraper.keep_rules(['rule_5x72','rule_6lpx'])\n",
    "scraper.save('github_info')"
   ]
  },
  {
   "cell_type": "code",
   "execution_count": 20,
   "metadata": {},
   "outputs": [],
   "source": [
    "scraper.load('github_info')"
   ]
  },
  {
   "cell_type": "code",
   "execution_count": 29,
   "metadata": {},
   "outputs": [],
   "source": [
    "scraper.load('github_info')"
   ]
  },
  {
   "cell_type": "code",
   "execution_count": 30,
   "metadata": {},
   "outputs": [
    {
     "data": {
      "text/plain": [
       "{'Stars': ['364', '425', '1,224', '10,616', '31,649', '6,082'],\n",
       " 'Title': ['community',\n",
       "  'api',\n",
       "  'istio.io',\n",
       "  'test-',\n",
       "  'kubernetes.github.io',\n",
       "  'kubernetes',\n",
       "  'helm',\n",
       "  'Misc']}"
      ]
     },
     "execution_count": 30,
     "metadata": {},
     "output_type": "execute_result"
    }
   ],
   "source": [
    "result = scraper.get_result_similar(\"https://github.com/sureshvis?tab=repositories\",group_by_alias=True)\n",
    "result"
   ]
  },
  {
   "cell_type": "code",
   "execution_count": 23,
   "metadata": {},
   "outputs": [
    {
     "data": {
      "text/plain": [
       "['8', '213', '1', '5', '4', '2', '2']"
      ]
     },
     "execution_count": 23,
     "metadata": {},
     "output_type": "execute_result"
    }
   ],
   "source": [
    "result['Stars']"
   ]
  },
  {
   "cell_type": "code",
   "execution_count": 24,
   "metadata": {},
   "outputs": [
    {
     "data": {
      "text/plain": [
       "['Deep-Learning-Projects',\n",
       " 'Machine-Learning-Projects',\n",
       " 'Reinforcement-Learning-Projects',\n",
       " 'python-tutorial',\n",
       " 'Python-Projects',\n",
       " 'Blockchain-Projects',\n",
       " 'Data-Structures-and-Algorithms-Notes',\n",
       " 'Web-Scraping']"
      ]
     },
     "execution_count": 24,
     "metadata": {},
     "output_type": "execute_result"
    }
   ],
   "source": [
    "result['Title']"
   ]
  },
  {
   "cell_type": "code",
   "execution_count": 25,
   "metadata": {},
   "outputs": [
    {
     "data": {
      "text/plain": [
       "{'Stars': ['1', '1', '1', '1', '2', '1', '64', '27'],\n",
       " 'Title': ['MarketDataAnalysis',\n",
       "  'Churn_Visulization',\n",
       "  'MovieDataAnalysis',\n",
       "  'dota2_watcher',\n",
       "  'MachineLearning',\n",
       "  'AOAProject',\n",
       "  'my-rpc',\n",
       "  'LeetCode-Notes',\n",
       "  'SoftwareEngineeringPics',\n",
       "  'DOSP-Projects',\n",
       "  'P2PFileSystem',\n",
       "  'ADSProject',\n",
       "  'STGame',\n",
       "  'TCPServerClient',\n",
       "  'learngit',\n",
       "  'testTravis.ci',\n",
       "  'InfluenceMaximization',\n",
       "  'ObjectOrientedDesign',\n",
       "  'influence-maximization',\n",
       "  'webAppsAssignments']}"
      ]
     },
     "execution_count": 25,
     "metadata": {},
     "output_type": "execute_result"
    }
   ],
   "source": [
    "result = scraper.get_result_similar(\"https://github.com/lukeyuan31?tab=repositories\",group_by_alias=True)\n",
    "result\n"
   ]
  },
  {
   "cell_type": "code",
   "execution_count": 26,
   "metadata": {},
   "outputs": [
    {
     "data": {
      "text/plain": [
       "20"
      ]
     },
     "execution_count": 26,
     "metadata": {},
     "output_type": "execute_result"
    }
   ],
   "source": [
    "len(result['Title'])"
   ]
  },
  {
   "cell_type": "code",
   "execution_count": 27,
   "metadata": {},
   "outputs": [
    {
     "data": {
      "text/plain": [
       "30"
      ]
     },
     "execution_count": 27,
     "metadata": {},
     "output_type": "execute_result"
    }
   ],
   "source": [
    "result = scraper.get_result_similar(\"https://github.com/binodsuman?tab=repositories\",group_by_alias=True)\n",
    "len(result['Title'])"
   ]
  },
  {
   "cell_type": "code",
   "execution_count": 28,
   "metadata": {},
   "outputs": [
    {
     "data": {
      "text/plain": [
       "14"
      ]
     },
     "execution_count": 28,
     "metadata": {},
     "output_type": "execute_result"
    }
   ],
   "source": [
    "result = scraper.get_result_similar(\"https://github.com/binodsuman?after=Y3Vyc29yOnYyOpK0MjAxOS0xMC0wNVQxODo1NjoyNVrODLLxLQ%3D%3D&tab=repositories\",group_by_alias=True)\n",
    "len(result['Title'])"
   ]
  },
  {
   "cell_type": "code",
   "execution_count": null,
   "metadata": {},
   "outputs": [],
   "source": []
  }
 ],
 "metadata": {
  "kernelspec": {
   "display_name": "Python 3",
   "language": "python",
   "name": "python3"
  },
  "language_info": {
   "codemirror_mode": {
    "name": "ipython",
    "version": 3
   },
   "file_extension": ".py",
   "mimetype": "text/x-python",
   "name": "python",
   "nbconvert_exporter": "python",
   "pygments_lexer": "ipython3",
   "version": "3.7.4"
  }
 },
 "nbformat": 4,
 "nbformat_minor": 2
}
