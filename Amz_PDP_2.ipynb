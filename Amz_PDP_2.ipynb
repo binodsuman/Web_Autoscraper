{
 "cells": [
  {
   "cell_type": "code",
   "execution_count": 1,
   "metadata": {},
   "outputs": [],
   "source": [
    "from autoscraper import AutoScraper"
   ]
  },
  {
   "cell_type": "code",
   "execution_count": 2,
   "metadata": {},
   "outputs": [],
   "source": [
    "scraper = AutoScraper()"
   ]
  },
  {
   "cell_type": "code",
   "execution_count": 3,
   "metadata": {},
   "outputs": [],
   "source": [
    "amz_pdp_url = \"https://www.amazon.in/New-Apple-iPhone-XR-128GB/dp/B08L8CPQH7/ref=sr_1_1_sspa?crid=1DR77OB33TE8Q&keywords=iphone&qid=1647412463&sprefix=ipho%2Caps%2C196&sr=8-1-spons&psc=1&spLa=ZW5jcnlwdGVkUXVhbGlmaWVyPUEyNTNTU1hDWUs0S0pQJmVuY3J5cHRlZElkPUEwNjY3ODg1Q05HTDgwRzFWTjkyJmVuY3J5cHRlZEFkSWQ9QTA0Nzc5NzcxUVBISkUzSDlFQlc4JndpZGdldE5hbWU9c3BfYXRmJmFjdGlvbj1jbGlja1JlZGlyZWN0JmRvTm90TG9nQ2xpY2s9dHJ1ZQ==\"\n",
    "candidate_list = [\"Apple iPhone XR (128GB) - Coral\",\"₹42,999.00\",\"6,443 ratings\",\"Coral\",\"128GB\",\"IPhone XR\",\"Apple\",\"Smartphone\"]\n"
   ]
  },
  {
   "cell_type": "code",
   "execution_count": 4,
   "metadata": {},
   "outputs": [
    {
     "name": "stdout",
     "output_type": "stream",
     "text": [
      "['Apple iPhone XR (128GB) - Coral', 'Visit the Apple Store', 'Save Extra  with 3 offers      Exchange Offer:  Up to ₹15,650.00 off on Exchange       \\n       …See All\" style=\"line-height: 1.3em !important; max-height: 2.6em;\">\\nBank Offer (8):\\nGet 10X CashPoints with HDFC Bank MoneyBack+ Credit Cards and 2X Reward Points with MoneyBack Credit Cards\\nSee All\\n         \\n       …See All\" style=\"line-height: 1.3em !important; max-height: 2.6em;\">\\nPartner Offers (2):\\nEarn 15% back upto ₹200 on minimum order of ₹1000 using Stashfin card. Valid twice per user\\nSee All\\n         See 1 more', 'Enhance your purchase', 'Model Name   IPhone XR     Wireless Carrier   Unlocked for All Carriers     Brand   Apple     Form Factor   Smartphone     Memory Storage Capacity   128 GB    \\n            function logProductOverviewMetric(metric) {\\n                if(typeof window.csa !== \\'undefined\\') {\\n                    var myEvents = csa(\"Events\", {producerId: \"dppinfo\"});\\n                    myEvents(\"log\", {\\n                            schemaId: \"dppinfo.productOverviewClientSideEvents.1\",\\n                            eventName: metric\\n                        },\\n                        {\\n                            ent:\\'all\\'\\n                        });\\n                }\\n            }\\n            logProductOverviewMetric(\\'productOverviewDesktopRendered\\');', 'About this item    6.1-inch (15.5 cm diagonal) Liquid Retina HD LCD display    Water and dust resistant (1 meter for up to 30 minutes, IP67)    Single 12MP Wide camera with Portrait mode, Portrait Lighting, Depth Control, Smart HDR, and 4K video up to 60fps    7MP TrueDepth front camera system with Portrait mode, Portrait Lighting, Depth Control, and 1080p video    Face ID for secure authentication    A12 Bionic with second-generation Neural Engine    Fast-charge capable    \\n   Wireless charging As part of our efforts to reach our environmental goals, iPhone no longer includes a power adapter or EarPods. Please use your existing Apple power adapter and headphones or buy these accessories separately iOS 14 with redesigned widgets on the Home screen, all-new App Library, App Clips, and more   Show More', '₹42,999.00', '₹52,900.00', '₹₹42,999.0042,999.00', 'Coral', '128GB', 'IPhone XR', 'Unlocked for All Carriers', 'Apple', 'Smartphone', '128 GB']\n"
     ]
    }
   ],
   "source": [
    "result = scraper.build(amz_pdp_url,candidate_list)\n",
    "print(result)"
   ]
  },
  {
   "cell_type": "code",
   "execution_count": 5,
   "metadata": {},
   "outputs": [],
   "source": [
    "amz_pdp_url = \"https://www.amazon.in/New-Apple-iPhone-XR-128GB/dp/B08L8CPQH7/ref=sr_1_1_sspa?crid=1DR77OB33TE8Q&keywords=iphone&qid=1647412463&sprefix=ipho%2Caps%2C196&sr=8-1-spons&psc=1&spLa=ZW5jcnlwdGVkUXVhbGlmaWVyPUEyNTNTU1hDWUs0S0pQJmVuY3J5cHRlZElkPUEwNjY3ODg1Q05HTDgwRzFWTjkyJmVuY3J5cHRlZEFkSWQ9QTA0Nzc5NzcxUVBISkUzSDlFQlc4JndpZGdldE5hbWU9c3BfYXRmJmFjdGlvbj1jbGlja1JlZGlyZWN0JmRvTm90TG9nQ2xpY2s9dHJ1ZQ==\"\n",
    "candidate_dict = {\n",
    "    'Title':[\n",
    "        \"Apple iPhone XR (128GB) - Coral\"\n",
    "        ],\n",
    "    'Price':[\"₹42,999.00\"],\n",
    "    'Rating':[\"6,443 ratings\"],\n",
    "    'Colour':[\"Coral\"],\n",
    "    'Size':[\"128GB\"],\n",
    "    'Model Name':[\"IPhone XR\"],\n",
    "    'Brand':[\"Apple\"],\n",
    "    'Form Factor':[\"Smartphone\"]\n",
    "   }\n",
    "\n"
   ]
  },
  {
   "cell_type": "code",
   "execution_count": 6,
   "metadata": {},
   "outputs": [
    {
     "name": "stdout",
     "output_type": "stream",
     "text": [
      "['Apple iPhone XR (128GB) - Coral', 'Visit the Apple Store', 'Save Extra  with 3 offers      Exchange Offer:  Up to ₹15,650.00 off on Exchange       \\n       …See All\" style=\"line-height: 1.3em !important; max-height: 2.6em;\">\\nBank Offer (8):\\nGet 10X CashPoints with HDFC Bank MoneyBack+ Credit Cards and 2X Reward Points with MoneyBack Credit Cards\\nSee All\\n         \\n       …See All\" style=\"line-height: 1.3em !important; max-height: 2.6em;\">\\nPartner Offers (2):\\nEarn 15% back upto ₹200 on minimum order of ₹1000 using Stashfin card. Valid twice per user\\nSee All\\n         See 1 more', 'Enhance your purchase', 'Model Name   IPhone XR     Wireless Carrier   Unlocked for All Carriers     Brand   Apple     Form Factor   Smartphone     Memory Storage Capacity   128 GB    \\n            function logProductOverviewMetric(metric) {\\n                if(typeof window.csa !== \\'undefined\\') {\\n                    var myEvents = csa(\"Events\", {producerId: \"dppinfo\"});\\n                    myEvents(\"log\", {\\n                            schemaId: \"dppinfo.productOverviewClientSideEvents.1\",\\n                            eventName: metric\\n                        },\\n                        {\\n                            ent:\\'all\\'\\n                        });\\n                }\\n            }\\n            logProductOverviewMetric(\\'productOverviewDesktopRendered\\');', 'About this item    6.1-inch (15.5 cm diagonal) Liquid Retina HD LCD display    Water and dust resistant (1 meter for up to 30 minutes, IP67)    Single 12MP Wide camera with Portrait mode, Portrait Lighting, Depth Control, Smart HDR, and 4K video up to 60fps    7MP TrueDepth front camera system with Portrait mode, Portrait Lighting, Depth Control, and 1080p video    Face ID for secure authentication    A12 Bionic with second-generation Neural Engine    Fast-charge capable    \\n   As part of our efforts to reach our environmental goals, iPhone no longer includes a power adapter or EarPods. Please use your existing Apple power adapter and headphones or buy these accessories separately iOS 14 with redesigned widgets on the Home screen, all-new App Library, App Clips, and more   Show More', '₹42,999.00', '₹52,900.00', '₹₹42,999.0042,999.00', 'Coral', '128GB', 'IPhone XR', 'Unlocked for All Carriers', 'Apple', 'Smartphone', '128 GB']\n"
     ]
    }
   ],
   "source": [
    "result = scraper.build(url=amz_pdp_url,wanted_dict=candidate_dict)\n",
    "print(result)"
   ]
  },
  {
   "cell_type": "code",
   "execution_count": 7,
   "metadata": {},
   "outputs": [
    {
     "data": {
      "text/plain": [
       "{'rule_whgf': ['Apple iPhone XR (128GB) - Coral',\n",
       "  'Visit the Apple Store',\n",
       "  'Save Extra  with 3 offers      Exchange Offer:  Up to ₹15,650.00 off on Exchange       \\n       …See All\" style=\"line-height: 1.3em !important; max-height: 2.6em;\">\\nBank Offer (8):\\nGet 10X CashPoints with HDFC Bank MoneyBack+ Credit Cards and 2X Reward Points with MoneyBack Credit Cards\\nSee All\\n         \\n       …See All\" style=\"line-height: 1.3em !important; max-height: 2.6em;\">\\nPartner Offers (2):\\nEarn 15% back upto ₹200 on minimum order of ₹1000 using Stashfin card. Valid twice per user\\nSee All\\n         See 1 more',\n",
       "  'Enhance your purchase',\n",
       "  'Model Name   IPhone XR     Wireless Carrier   Unlocked for All Carriers     Brand   Apple     Form Factor   Smartphone     Memory Storage Capacity   128 GB    \\n            function logProductOverviewMetric(metric) {\\n                if(typeof window.csa !== \\'undefined\\') {\\n                    var myEvents = csa(\"Events\", {producerId: \"dppinfo\"});\\n                    myEvents(\"log\", {\\n                            schemaId: \"dppinfo.productOverviewClientSideEvents.1\",\\n                            eventName: metric\\n                        },\\n                        {\\n                            ent:\\'all\\'\\n                        });\\n                }\\n            }\\n            logProductOverviewMetric(\\'productOverviewDesktopRendered\\');',\n",
       "  'About this item    6.1-inch (15.5 cm diagonal) Liquid Retina HD LCD display    Water and dust resistant (1 meter for up to 30 minutes, IP67)    Single 12MP Wide camera with Portrait mode, Portrait Lighting, Depth Control, Smart HDR, and 4K video up to 60fps    7MP TrueDepth front camera system with Portrait mode, Portrait Lighting, Depth Control, and 1080p video    Face ID for secure authentication    A12 Bionic with second-generation Neural Engine    Fast-charge capable    \\n   As part of our efforts to reach our environmental goals, iPhone no longer includes a power adapter or EarPods. Please use your existing Apple power adapter and headphones or buy these accessories separately iOS 14 with redesigned widgets on the Home screen, all-new App Library, App Clips, and more   Show More'],\n",
       " 'rule_n8ps': ['Apple iPhone XR (128GB) - Coral'],\n",
       " 'rule_8o8h': ['₹42,999.00'],\n",
       " 'rule_n7ka': ['₹42,999.00'],\n",
       " 'rule_3tsr': ['₹52,900.00', '₹42,999.00'],\n",
       " 'rule_9m58': ['₹52,900.00', '₹42,999.00'],\n",
       " 'rule_i1kq': ['₹42,999.00'],\n",
       " 'rule_mrxq': ['₹42,999.00', '₹₹42,999.0042,999.00'],\n",
       " 'rule_rqpw': ['₹42,999.00'],\n",
       " 'rule_kyuz': ['₹42,999.00'],\n",
       " 'rule_dcim': ['₹42,999.00'],\n",
       " 'rule_qcow': ['Coral'],\n",
       " 'rule_teu6': ['Coral', '128GB'],\n",
       " 'rule_ofv6': ['Coral', '128GB'],\n",
       " 'rule_c5yk': ['IPhone XR',\n",
       "  'Unlocked for All Carriers',\n",
       "  'Apple',\n",
       "  'Smartphone',\n",
       "  '128 GB'],\n",
       " 'rule_9zs3': ['IPhone XR',\n",
       "  'Unlocked for All Carriers',\n",
       "  'Apple',\n",
       "  'Smartphone',\n",
       "  '128 GB'],\n",
       " 'rule_kngp': ['IPhone XR',\n",
       "  'Unlocked for All Carriers',\n",
       "  'Apple',\n",
       "  'Smartphone',\n",
       "  '128 GB']}"
      ]
     },
     "execution_count": 7,
     "metadata": {},
     "output_type": "execute_result"
    }
   ],
   "source": [
    "scraper.get_result_similar(amz_pdp_url, grouped=True)"
   ]
  },
  {
   "cell_type": "code",
   "execution_count": 8,
   "metadata": {},
   "outputs": [
    {
     "data": {
      "text/plain": [
       "{'Title': ['Apple iPhone XR (128GB) - Coral',\n",
       "  'Apple iPhone XR (128GB) - Coral',\n",
       "  'Visit the Apple Store',\n",
       "  'Save Extra  with 3 offers      Exchange Offer:  Up to ₹15,650.00 off on Exchange       \\n       …See All\" style=\"line-height: 1.3em !important; max-height: 2.6em;\">\\nBank Offer (8):\\nGet 10X CashPoints with HDFC Bank MoneyBack+ Credit Cards and 2X Reward Points with MoneyBack Credit Cards\\nSee All\\n         \\n       …See All\" style=\"line-height: 1.3em !important; max-height: 2.6em;\">\\nPartner Offers (2):\\nEarn 15% back upto ₹200 on minimum order of ₹1000 using Stashfin card. Valid twice per user\\nSee All\\n         See 1 more',\n",
       "  'Enhance your purchase',\n",
       "  'Model Name   IPhone XR     Wireless Carrier   Unlocked for All Carriers     Brand   Apple     Form Factor   Smartphone     Memory Storage Capacity   128 GB    \\n            function logProductOverviewMetric(metric) {\\n                if(typeof window.csa !== \\'undefined\\') {\\n                    var myEvents = csa(\"Events\", {producerId: \"dppinfo\"});\\n                    myEvents(\"log\", {\\n                            schemaId: \"dppinfo.productOverviewClientSideEvents.1\",\\n                            eventName: metric\\n                        },\\n                        {\\n                            ent:\\'all\\'\\n                        });\\n                }\\n            }\\n            logProductOverviewMetric(\\'productOverviewDesktopRendered\\');',\n",
       "  'About this item    6.1-inch (15.5 cm diagonal) Liquid Retina HD LCD display    Water and dust resistant (1 meter for up to 30 minutes, IP67)    Single 12MP Wide camera with Portrait mode, Portrait Lighting, Depth Control, Smart HDR, and 4K video up to 60fps    7MP TrueDepth front camera system with Portrait mode, Portrait Lighting, Depth Control, and 1080p video    Face ID for secure authentication    A12 Bionic with second-generation Neural Engine    Fast-charge capable    \\n   Wireless charging As part of our efforts to reach our environmental goals, iPhone no longer includes a power adapter or EarPods. Please use your existing Apple power adapter and headphones or buy these accessories separately iOS 14 with redesigned widgets on the Home screen, all-new App Library, App Clips, and more   Show More'],\n",
       " 'Price': ['₹42,999.00',\n",
       "  '₹42,999.00',\n",
       "  '₹42,999.00',\n",
       "  '₹42,999.00',\n",
       "  '₹₹42,999.0042,999.00',\n",
       "  '₹42,999.00',\n",
       "  '₹52,900.00',\n",
       "  '₹52,900.00',\n",
       "  '₹42,999.00',\n",
       "  '₹42,999.00',\n",
       "  '₹42,999.00',\n",
       "  '₹42,999.00'],\n",
       " 'Colour': ['Coral', 'Coral', '128GB'],\n",
       " 'Size': ['Coral', '128GB'],\n",
       " 'Model Name': ['IPhone XR',\n",
       "  'Unlocked for All Carriers',\n",
       "  'Apple',\n",
       "  'Smartphone',\n",
       "  '128 GB'],\n",
       " 'Brand': ['IPhone XR',\n",
       "  'Unlocked for All Carriers',\n",
       "  'Apple',\n",
       "  'Smartphone',\n",
       "  '128 GB'],\n",
       " 'Form Factor': ['IPhone XR',\n",
       "  'Unlocked for All Carriers',\n",
       "  'Apple',\n",
       "  'Smartphone',\n",
       "  '128 GB']}"
      ]
     },
     "execution_count": 8,
     "metadata": {},
     "output_type": "execute_result"
    }
   ],
   "source": [
    "scraper.get_result_similar(amz_pdp_url, group_by_alias=True)"
   ]
  },
  {
   "cell_type": "code",
   "execution_count": 9,
   "metadata": {},
   "outputs": [
    {
     "data": {
      "text/plain": [
       "{'Title': ['Apple iPhone XR (128GB) - Coral',\n",
       "  'Apple iPhone XR (128GB) - Coral'],\n",
       " 'Price': ['₹42,999.00',\n",
       "  '₹42,999.00',\n",
       "  '₹42,999.00',\n",
       "  '₹42,999.00',\n",
       "  '₹42,999.00',\n",
       "  '₹42,999.00',\n",
       "  '₹42,999.00',\n",
       "  '₹42,999.00',\n",
       "  '₹42,999.00'],\n",
       " 'Colour': ['Coral', 'Coral'],\n",
       " 'Size': ['128GB'],\n",
       " 'Model Name': ['IPhone XR'],\n",
       " 'Brand': ['Apple'],\n",
       " 'Form Factor': ['Smartphone']}"
      ]
     },
     "execution_count": 9,
     "metadata": {},
     "output_type": "execute_result"
    }
   ],
   "source": [
    "scraper.get_result_exact(amz_pdp_url, group_by_alias=True)"
   ]
  },
  {
   "cell_type": "code",
   "execution_count": 10,
   "metadata": {},
   "outputs": [],
   "source": [
    "url_2 = \"https://www.amazon.in/Apple-iPhone-13-256GB-Pink/dp/B09G9HRYFZ/ref=sr_1_2_sspa?crid=1DR77OB33TE8Q&keywords=iphone&qid=1647412463&sprefix=ipho%2Caps%2C196&sr=8-2-spons&psc=1&spLa=ZW5jcnlwdGVkUXVhbGlmaWVyPUEyNTNTU1hDWUs0S0pQJmVuY3J5cHRlZElkPUEwNjY3ODg1Q05HTDgwRzFWTjkyJmVuY3J5cHRlZEFkSWQ9QTAzMzI4MjgzQkkzTjZSTlBYMTlOJndpZGdldE5hbWU9c3BfYXRmJmFjdGlvbj1jbGlja1JlZGlyZWN0JmRvTm90TG9nQ2xpY2s9dHJ1ZQ==\""
   ]
  },
  {
   "cell_type": "code",
   "execution_count": 11,
   "metadata": {},
   "outputs": [
    {
     "data": {
      "text/plain": [
       "{'Title': ['Apple iPhone 13 (256 GB) - Green'],\n",
       " 'Price': ['₹84,900.00',\n",
       "  '₹84,900.00',\n",
       "  '₹84,900.00',\n",
       "  '₹84,900.00',\n",
       "  '₹84,900.00',\n",
       "  '₹84,900.00',\n",
       "  '₹84,900.00',\n",
       "  '128GB',\n",
       "  '256GB'],\n",
       " 'Colour': ['256GB'],\n",
       " 'Size': ['Green'],\n",
       " 'Model Name': ['IPhone 13'],\n",
       " 'Brand': ['Apple'],\n",
       " 'Form Factor': ['IPhone 13']}"
      ]
     },
     "execution_count": 11,
     "metadata": {},
     "output_type": "execute_result"
    }
   ],
   "source": [
    "scraper.get_result_exact(url_2, group_by_alias=True)"
   ]
  },
  {
   "cell_type": "code",
   "execution_count": 12,
   "metadata": {},
   "outputs": [],
   "source": [
    "result = scraper.get_result_exact(url_2, group_by_alias=True)"
   ]
  },
  {
   "cell_type": "code",
   "execution_count": 13,
   "metadata": {},
   "outputs": [
    {
     "name": "stdout",
     "output_type": "stream",
     "text": [
      "Apple iPhone 13 (256 GB) - Green\n",
      "₹84,900.00\n",
      "256GB\n",
      "Green\n",
      "IPhone 13\n",
      "Apple\n",
      "IPhone 13\n"
     ]
    }
   ],
   "source": [
    "print(result['Title'][0])\n",
    "print(result['Price'][0])\n",
    "print(result['Colour'][0])\n",
    "print(result['Size'][0])\n",
    "print(result['Model Name'][0])\n",
    "print(result['Brand'][0])\n",
    "print(result['Form Factor'][0])"
   ]
  },
  {
   "cell_type": "code",
   "execution_count": 20,
   "metadata": {},
   "outputs": [
    {
     "data": {
      "text/plain": [
       "{'Title': ['Apple iPhone 11 (128GB) - (Product) RED'],\n",
       " 'Price': ['₹54,900.00',\n",
       "  '₹54,900.00',\n",
       "  '₹54,900.00',\n",
       "  '₹54,900.00',\n",
       "  '₹54,900.00',\n",
       "  '64GB',\n",
       "  '128GB'],\n",
       " 'Colour': ['128GB'],\n",
       " 'Size': ['(PRODUCT)RED'],\n",
       " 'Model Name': ['IPhone 11'],\n",
       " 'Brand': ['Apple'],\n",
       " 'Form Factor': ['Smartphone']}"
      ]
     },
     "execution_count": 20,
     "metadata": {},
     "output_type": "execute_result"
    }
   ],
   "source": [
    "url_3 = \"https://www.amazon.in/New-Apple-iPhone-11-128GB/dp/B08L8BV998/ref=sr_1_8?crid=1DR77OB33TE8Q&keywords=iphone&qid=1647412463&sprefix=ipho%2Caps%2C196&sr=8-8\"\n",
    "result = scraper.get_result_exact(url_3, group_by_alias=True)\n",
    "result"
   ]
  },
  {
   "cell_type": "code",
   "execution_count": 21,
   "metadata": {},
   "outputs": [
    {
     "name": "stdout",
     "output_type": "stream",
     "text": [
      "['Apple iPhone 11 (128GB) - (Product) RED']\n"
     ]
    }
   ],
   "source": [
    "print(list(result.values())[0])"
   ]
  },
  {
   "cell_type": "code",
   "execution_count": 22,
   "metadata": {},
   "outputs": [
    {
     "data": {
      "text/plain": [
       "1"
      ]
     },
     "execution_count": 22,
     "metadata": {},
     "output_type": "execute_result"
    }
   ],
   "source": [
    "len(list(result.values())[0])"
   ]
  },
  {
   "cell_type": "code",
   "execution_count": 23,
   "metadata": {},
   "outputs": [],
   "source": [
    "final_result = []\n",
    "for i in range(len(list(result.values())[0])):\n",
    "    final_result.append({alias: result[alias][i] for alias in result})"
   ]
  },
  {
   "cell_type": "code",
   "execution_count": 24,
   "metadata": {},
   "outputs": [
    {
     "data": {
      "text/plain": [
       "[{'Title': 'Apple iPhone 11 (128GB) - (Product) RED',\n",
       "  'Price': '₹54,900.00',\n",
       "  'Colour': '128GB',\n",
       "  'Size': '(PRODUCT)RED',\n",
       "  'Model Name': 'IPhone 11',\n",
       "  'Brand': 'Apple',\n",
       "  'Form Factor': 'Smartphone'}]"
      ]
     },
     "execution_count": 24,
     "metadata": {},
     "output_type": "execute_result"
    }
   ],
   "source": [
    "final_result"
   ]
  },
  {
   "cell_type": "code",
   "execution_count": 15,
   "metadata": {},
   "outputs": [
    {
     "name": "stdout",
     "output_type": "stream",
     "text": [
      "Apple iPhone 11 (128GB) - (Product) RED\n",
      "₹54,900.00\n",
      "128GB\n",
      "(PRODUCT)RED\n",
      "IPhone 11\n",
      "Apple\n",
      "Smartphone\n"
     ]
    }
   ],
   "source": [
    "print(result['Title'][0])\n",
    "print(result['Price'][0])\n",
    "print(result['Colour'][0])\n",
    "print(result['Size'][0])\n",
    "print(result['Model Name'][0])\n",
    "print(result['Brand'][0])\n",
    "print(result['Form Factor'][0])"
   ]
  },
  {
   "cell_type": "code",
   "execution_count": 16,
   "metadata": {},
   "outputs": [],
   "source": [
    "scraper.save('amz_pdp_2')"
   ]
  },
  {
   "cell_type": "code",
   "execution_count": 17,
   "metadata": {},
   "outputs": [],
   "source": [
    "scraper.load('amz_pdp_2')"
   ]
  },
  {
   "cell_type": "code",
   "execution_count": 18,
   "metadata": {},
   "outputs": [],
   "source": [
    "url_3 = \"https://www.amazon.in/New-Apple-iPhone-11-128GB/dp/B08L8BV998/ref=sr_1_8?crid=1DR77OB33TE8Q&keywords=iphone&qid=1647412463&sprefix=ipho%2Caps%2C196&sr=8-8\"\n",
    "result = scraper.get_result_exact(url_3, group_by_alias=True)"
   ]
  },
  {
   "cell_type": "code",
   "execution_count": 19,
   "metadata": {},
   "outputs": [
    {
     "name": "stdout",
     "output_type": "stream",
     "text": [
      "Apple iPhone 11 (128GB) - (Product) RED\n",
      "₹54,900.00\n",
      "128GB\n",
      "(PRODUCT)RED\n",
      "IPhone 11\n",
      "Apple\n",
      "Smartphone\n"
     ]
    }
   ],
   "source": [
    "print(result['Title'][0])\n",
    "print(result['Price'][0])\n",
    "print(result['Colour'][0])\n",
    "print(result['Size'][0])\n",
    "print(result['Model Name'][0])\n",
    "print(result['Brand'][0])\n",
    "print(result['Form Factor'][0])"
   ]
  },
  {
   "cell_type": "code",
   "execution_count": 99,
   "metadata": {},
   "outputs": [],
   "source": [
    "url_4= \"https://www.amazon.in/Apple-iPhone-13-128GB-Blue/dp/B09G9BL5CP/ref=sr_1_17?crid=1DR77OB33TE8Q&keywords=iphone&qid=1647412463&sprefix=ipho%2Caps%2C196&sr=8-17\"\n",
    "candidate_dict = {\n",
    "    'Title':[\n",
    "        \"Apple iPhone 13 (128GB) - Blue\",\n",
    "        \"Apple iPhone 13 (128GB) - Blue\"\n",
    "        ],\n",
    "    'Price':[\"₹71,900.00\"],\n",
    "    'Rating':[\"1,592\"],\n",
    "    'Colour':[\"Blue\"],\n",
    "    'Size':[\"128GB\"],\n",
    "    'Model Name':[\"IPhone\"],\n",
    "    'Brand':[\"Apple\"],\n",
    "    'Form Factor':[\"Smartphone\"],\n",
    "    'About this Item':[\n",
    "        '15 cm (6.1-inch) Super Retina XDR display',\n",
    "        'Cinematic mode adds shallow depth of field and shifts focus automatically in your videos',\n",
    "        'Advanced dual-camera system with 12MP Wide and Ultra Wide cameras; Photographic Styles, Smart HDR 4, Night mode, 4K Dolby Vision HDR recording',\n",
    "        '12MP TrueDepth front camera with Night mode, 4K Dolby Vision HDR recording',\n",
    "        'A15 Bionic chip for lightning-fast performance',\n",
    "        'Up to 19 hours of video playback',\n",
    "        'Durable design with Ceramic Shield',\n",
    "        'Industry-leading IP68 water resistance',\n",
    "        'iOS 15 packs new features to do more with iPhone than ever before',\n",
    "        'Supports MagSafe accessories for easy attachment and faster wireless charging'\n",
    "    ]\n",
    "   }\n",
    "\n",
    "\n"
   ]
  },
  {
   "cell_type": "code",
   "execution_count": 100,
   "metadata": {},
   "outputs": [
    {
     "data": {
      "text/plain": [
       "['128GB',\n",
       " 'Midnight',\n",
       " 'IPhone',\n",
       " 'Unlocked for All Carriers',\n",
       " 'Apple',\n",
       " 'Smartphone',\n",
       " '128 GB',\n",
       " '15 cm (6.1-inch) Super Retina XDR display',\n",
       " 'Cinematic mode adds shallow depth of field and shifts focus automatically in your videos',\n",
       " 'Advanced dual-camera system with 12MP Wide and Ultra Wide cameras; Photographic Styles, Smart HDR 4, Night mode, 4K Dolby Vision HDR recording',\n",
       " '12MP TrueDepth front camera with Night mode, 4K Dolby Vision HDR recording',\n",
       " 'A15 Bionic chip for lightning-fast performance',\n",
       " 'Up to 19 hours of video playback',\n",
       " 'Durable design with Ceramic Shield',\n",
       " 'Industry-leading IP68 water resistance',\n",
       " 'iOS 15 packs new features to do more with iPhone than ever before',\n",
       " 'Supports MagSafe accessories for easy attachment and faster wireless charging']"
      ]
     },
     "execution_count": 100,
     "metadata": {},
     "output_type": "execute_result"
    }
   ],
   "source": [
    "scraper.build(url=url_4,wanted_dict=candidate_dict)\n"
   ]
  },
  {
   "cell_type": "code",
   "execution_count": 86,
   "metadata": {},
   "outputs": [
    {
     "data": {
      "text/plain": [
       "{'Title': ['Apple iPhone XR (128GB) - Coral'],\n",
       " 'Price': ['₹42,999.00',\n",
       "  '₹42,999.00',\n",
       "  '₹42,999.00',\n",
       "  '₹42,999.00',\n",
       "  '₹42,999.00',\n",
       "  '₹42,999.00',\n",
       "  '₹42,999.00'],\n",
       " 'Colour': ['128GB'],\n",
       " 'Size': ['Coral', '₹42,999.00'],\n",
       " 'Model Name': ['IPhone XR'],\n",
       " 'Brand': ['Apple'],\n",
       " 'Form Factor': ['Smartphone'],\n",
       " 'About this Item': ['6.1-inch (15.5 cm diagonal) Liquid Retina HD LCD display',\n",
       "  'Water and dust resistant (1 meter for up to 30 minutes, IP67)',\n",
       "  'Single 12MP Wide camera with Portrait mode, Portrait Lighting, Depth Control, Smart HDR, and 4K video up to 60fps',\n",
       "  '7MP TrueDepth front camera system with Portrait mode, Portrait Lighting, Depth Control, and 1080p video',\n",
       "  'Face ID for secure authentication',\n",
       "  'A12 Bionic with second-generation Neural Engine',\n",
       "  'Fast-charge capable',\n",
       "  'As part of our efforts to reach our environmental goals, iPhone no longer includes a power adapter or EarPods. Please use your existing Apple power adapter and headphones or buy these accessories separately',\n",
       "  'iOS 14 with redesigned widgets on the Home screen, all-new App Library, App Clips, and more',\n",
       "  'iOS 14 with redesigned widgets on the Home screen, all-new App Library, App Clips, and more']}"
      ]
     },
     "execution_count": 86,
     "metadata": {},
     "output_type": "execute_result"
    }
   ],
   "source": [
    "scraper.get_result_exact(amz_pdp_url, group_by_alias=True)"
   ]
  },
  {
   "cell_type": "raw",
   "metadata": {},
   "source": [
    "url_2 = \"https://www.amazon.in/Apple-iPhone-13-256GB-Pink/dp/B09G9HRYFZ/ref=sr_1_2_sspa?crid=1DR77OB33TE8Q&keywords=iphone&qid=1647412463&sprefix=ipho%2Caps%2C196&sr=8-2-spons&psc=1&spLa=ZW5jcnlwdGVkUXVhbGlmaWVyPUEyNTNTU1hDWUs0S0pQJmVuY3J5cHRlZElkPUEwNjY3ODg1Q05HTDgwRzFWTjkyJmVuY3J5cHRlZEFkSWQ9QTAzMzI4MjgzQkkzTjZSTlBYMTlOJndpZGdldE5hbWU9c3BfYXRmJmFjdGlvbj1jbGlja1JlZGlyZWN0JmRvTm90TG9nQ2xpY2s9dHJ1ZQ==\""
   ]
  },
  {
   "cell_type": "code",
   "execution_count": 87,
   "metadata": {},
   "outputs": [
    {
     "data": {
      "text/plain": [
       "{'Title': ['Apple iPhone 13 (256GB) - Pink', 'Apple iPhone 13 (256GB) - Pink'],\n",
       " 'Price': ['₹84,900.00',\n",
       "  '₹84,900.00',\n",
       "  '₹84,900.00',\n",
       "  '₹84,900.00',\n",
       "  '₹84,900.00',\n",
       "  '₹84,900.00',\n",
       "  '₹84,900.00'],\n",
       " 'Colour': ['Pink', 'Pink'],\n",
       " 'Size': ['256GB', '256GB'],\n",
       " 'Model Name': ['IPhone'],\n",
       " 'Brand': ['Apple'],\n",
       " 'Form Factor': ['Smartphone'],\n",
       " 'About this Item': ['15 cm (6.1-inch) Super Retina XDR display',\n",
       "  'Cinematic mode adds shallow depth of field and shifts focus automatically in your videos',\n",
       "  'Advanced dual-camera system with 12MP Wide and Ultra Wide cameras; Photographic Styles, Smart HDR 4, Night mode, 4K Dolby Vision HDR recording',\n",
       "  '12MP TrueDepth front camera with Night mode, 4K Dolby Vision HDR recording',\n",
       "  'A15 Bionic chip for lightning-fast performance',\n",
       "  'Up to 19 hours of video playback',\n",
       "  'Durable design with Ceramic Shield',\n",
       "  'Industry-leading IP68 water resistance',\n",
       "  'iOS 15 packs new features to do more with iPhone than ever before',\n",
       "  'Supports MagSafe accessories for easy attachment and faster wireless charging']}"
      ]
     },
     "execution_count": 87,
     "metadata": {},
     "output_type": "execute_result"
    }
   ],
   "source": [
    "result = scraper.get_result_exact(url_2, group_by_alias=True)\n",
    "result"
   ]
  },
  {
   "cell_type": "code",
   "execution_count": 90,
   "metadata": {},
   "outputs": [
    {
     "name": "stdout",
     "output_type": "stream",
     "text": [
      "Apple iPhone 13 (256GB) - Pink\n",
      "₹84,900.00\n",
      "Pink\n",
      "256GB\n",
      "IPhone\n",
      "Apple\n",
      "Smartphone\n",
      "['15 cm (6.1-inch) Super Retina XDR display', 'Cinematic mode adds shallow depth of field and shifts focus automatically in your videos', 'Advanced dual-camera system with 12MP Wide and Ultra Wide cameras; Photographic Styles, Smart HDR 4, Night mode, 4K Dolby Vision HDR recording', '12MP TrueDepth front camera with Night mode, 4K Dolby Vision HDR recording', 'A15 Bionic chip for lightning-fast performance', 'Up to 19 hours of video playback', 'Durable design with Ceramic Shield', 'Industry-leading IP68 water resistance', 'iOS 15 packs new features to do more with iPhone than ever before', 'Supports MagSafe accessories for easy attachment and faster wireless charging']\n"
     ]
    }
   ],
   "source": [
    "print(result['Title'][0])\n",
    "print(result['Price'][0])\n",
    "print(result['Colour'][0])\n",
    "print(result['Size'][0])\n",
    "print(result['Model Name'][0])\n",
    "print(result['Brand'][0])\n",
    "print(result['Form Factor'][0])\n",
    "print(result['About this Item'])"
   ]
  },
  {
   "cell_type": "code",
   "execution_count": 91,
   "metadata": {},
   "outputs": [
    {
     "data": {
      "text/plain": [
       "{'Title': ['Apple iPhone 11 (128GB) - (Product) RED',\n",
       "  'Apple iPhone 11 (128GB) - (Product) RED'],\n",
       " 'Price': ['₹52,990.00', '₹52,990.00', '₹52,990.00'],\n",
       " 'Colour': ['(PRODUCT)RED', '(PRODUCT)RED'],\n",
       " 'Size': ['128GB', '128GB'],\n",
       " 'Model Name': ['IPhone 11'],\n",
       " 'Brand': ['Apple'],\n",
       " 'Form Factor': ['Smartphone'],\n",
       " 'About this Item': ['6.1-inch (15.4 cm diagonal) Liquid Retina HD LCD display',\n",
       "  'Water and dust resistant (2 meters for up to 30 minutes, IP68)',\n",
       "  'Dual-camera system with 12MP Ultra Wide and Wide cameras; Night mode, Portrait mode, and 4K video up to 60fps',\n",
       "  '12MP TrueDepth front camera with Portrait mode, 4K video, and Slo-Mo',\n",
       "  'Face ID for secure authentication',\n",
       "  'A13 Bionic chip with third-generation Neural Engine',\n",
       "  'Fast-charge capable',\n",
       "  'Wireless charging',\n",
       "  'iOS 15 packs new features to do more with iPhone than ever before',\n",
       "  'iOS 14 with redesigned widgets on the Home screen, all-new App Library, App Clips, and more']}"
      ]
     },
     "execution_count": 91,
     "metadata": {},
     "output_type": "execute_result"
    }
   ],
   "source": [
    "result = scraper.get_result_exact(url_3, group_by_alias=True)\n",
    "result"
   ]
  },
  {
   "cell_type": "code",
   "execution_count": 92,
   "metadata": {},
   "outputs": [
    {
     "name": "stdout",
     "output_type": "stream",
     "text": [
      "Apple iPhone 11 (128GB) - (Product) RED\n",
      "₹52,990.00\n",
      "(PRODUCT)RED\n",
      "128GB\n",
      "IPhone 11\n",
      "Apple\n",
      "Smartphone\n",
      "['6.1-inch (15.4 cm diagonal) Liquid Retina HD LCD display', 'Water and dust resistant (2 meters for up to 30 minutes, IP68)', 'Dual-camera system with 12MP Ultra Wide and Wide cameras; Night mode, Portrait mode, and 4K video up to 60fps', '12MP TrueDepth front camera with Portrait mode, 4K video, and Slo-Mo', 'Face ID for secure authentication', 'A13 Bionic chip with third-generation Neural Engine', 'Fast-charge capable', 'Wireless charging', 'iOS 15 packs new features to do more with iPhone than ever before', 'iOS 14 with redesigned widgets on the Home screen, all-new App Library, App Clips, and more']\n"
     ]
    }
   ],
   "source": [
    "print(result['Title'][0])\n",
    "print(result['Price'][0])\n",
    "print(result['Colour'][0])\n",
    "print(result['Size'][0])\n",
    "print(result['Model Name'][0])\n",
    "print(result['Brand'][0])\n",
    "print(result['Form Factor'][0])\n",
    "print(result['About this Item'])"
   ]
  },
  {
   "cell_type": "code",
   "execution_count": 94,
   "metadata": {},
   "outputs": [
    {
     "data": {
      "text/plain": [
       "{'Title': ['Apple iPhone 13 Mini (128GB) - Starlight',\n",
       "  'Apple iPhone 13 Mini (128GB) - Starlight'],\n",
       " 'Price': ['₹64,900.00',\n",
       "  '₹64,900.00',\n",
       "  '₹64,900.00',\n",
       "  '₹64,900.00',\n",
       "  '₹64,900.00',\n",
       "  '₹64,900.00',\n",
       "  '₹64,900.00'],\n",
       " 'Colour': ['Starlight', 'Starlight'],\n",
       " 'Size': ['128GB', '128GB'],\n",
       " 'Model Name': ['IPhone'],\n",
       " 'Brand': ['Apple'],\n",
       " 'Form Factor': ['Smartphone'],\n",
       " 'About this Item': ['13 cm (5.4-inch) Super Retina XDR display',\n",
       "  'Cinematic mode adds shallow depth of field and shifts focus automatically in your videos',\n",
       "  'Advanced dual-camera system with 12MP Wide and Ultra Wide cameras; Photographic Styles, Smart HDR 4, Night mode, 4K Dolby Vision HDR recording',\n",
       "  '12MP TrueDepth front camera with Night mode, 4K Dolby Vision HDR recording',\n",
       "  'A15 Bionic chip for lightning-fast performance',\n",
       "  'Up to 17 hours of video playback',\n",
       "  'Durable design with Ceramic Shield',\n",
       "  'Industry-leading IP68 water resistance',\n",
       "  'iOS 15 packs new features to do more with iPhone than ever before',\n",
       "  'Supports MagSafe accessories for easy attachment and faster wireless charging']}"
      ]
     },
     "execution_count": 94,
     "metadata": {},
     "output_type": "execute_result"
    }
   ],
   "source": [
    "url_5 = \"https://www.amazon.in/Apple-iPhone-Mini-128GB-Starlight/dp/B09G91Q79X/ref=sr_1_20?crid=1DR77OB33TE8Q&keywords=iphone&qid=1647428943&sprefix=ipho%2Caps%2C196&sr=8-20\"\n",
    "result = scraper.get_result_exact(url_5, group_by_alias=True)\n",
    "result"
   ]
  },
  {
   "cell_type": "code",
   "execution_count": 95,
   "metadata": {},
   "outputs": [
    {
     "name": "stdout",
     "output_type": "stream",
     "text": [
      "Apple iPhone 13 Mini (128GB) - Starlight\n",
      "₹64,900.00\n",
      "Starlight\n",
      "128GB\n",
      "IPhone\n",
      "Apple\n",
      "Smartphone\n",
      "['13 cm (5.4-inch) Super Retina XDR display', 'Cinematic mode adds shallow depth of field and shifts focus automatically in your videos', 'Advanced dual-camera system with 12MP Wide and Ultra Wide cameras; Photographic Styles, Smart HDR 4, Night mode, 4K Dolby Vision HDR recording', '12MP TrueDepth front camera with Night mode, 4K Dolby Vision HDR recording', 'A15 Bionic chip for lightning-fast performance', 'Up to 17 hours of video playback', 'Durable design with Ceramic Shield', 'Industry-leading IP68 water resistance', 'iOS 15 packs new features to do more with iPhone than ever before', 'Supports MagSafe accessories for easy attachment and faster wireless charging']\n"
     ]
    }
   ],
   "source": [
    "print(result['Title'][0])\n",
    "print(result['Price'][0])\n",
    "print(result['Colour'][0])\n",
    "print(result['Size'][0])\n",
    "print(result['Model Name'][0])\n",
    "print(result['Brand'][0])\n",
    "print(result['Form Factor'][0])\n",
    "print(result['About this Item'])"
   ]
  },
  {
   "cell_type": "code",
   "execution_count": 96,
   "metadata": {},
   "outputs": [],
   "source": [
    "url_6 = \"https://www.amazon.in/Iphone5s-Compatible-iPhone-AppStore-Warranty/dp/B09TDSTQMX/ref=sr_1_22?crid=1DR77OB33TE8Q&keywords=iphone&qid=1647428943&sprefix=ipho%2Caps%2C196&sr=8-22\""
   ]
  },
  {
   "cell_type": "code",
   "execution_count": 101,
   "metadata": {},
   "outputs": [
    {
     "data": {
      "text/plain": [
       "{'Size': ['128GB', '128GB'],\n",
       " 'Model Name': ['IPhone'],\n",
       " 'Brand': ['Apple'],\n",
       " 'Form Factor': ['Smartphone'],\n",
       " 'About this Item': ['15 cm (6.1-inch) Super Retina XDR display',\n",
       "  'Cinematic mode adds shallow depth of field and shifts focus automatically in your videos',\n",
       "  'Advanced dual-camera system with 12MP Wide and Ultra Wide cameras; Photographic Styles, Smart HDR 4, Night mode, 4K Dolby Vision HDR recording',\n",
       "  '12MP TrueDepth front camera with Night mode, 4K Dolby Vision HDR recording',\n",
       "  'A15 Bionic chip for lightning-fast performance',\n",
       "  'Up to 19 hours of video playback',\n",
       "  'Durable design with Ceramic Shield',\n",
       "  'Industry-leading IP68 water resistance',\n",
       "  'iOS 15 packs new features to do more with iPhone than ever before',\n",
       "  'Supports MagSafe accessories for easy attachment and faster wireless charging']}"
      ]
     },
     "execution_count": 101,
     "metadata": {},
     "output_type": "execute_result"
    }
   ],
   "source": [
    "result = scraper.get_result_exact(url_4, group_by_alias=True)\n",
    "result"
   ]
  },
  {
   "cell_type": "code",
   "execution_count": null,
   "metadata": {},
   "outputs": [],
   "source": [
    "print(result['Title'][0])\n",
    "print(result['Price'][0])\n",
    "print(result['Colour'][0])\n",
    "print(result['Size'][0])\n",
    "print(result['Model Name'][0])\n",
    "print(result['Brand'][0])\n",
    "print(result['Form Factor'][0])\n",
    "print(result['About this Item'])"
   ]
  }
 ],
 "metadata": {
  "kernelspec": {
   "display_name": "Python 3",
   "language": "python",
   "name": "python3"
  },
  "language_info": {
   "codemirror_mode": {
    "name": "ipython",
    "version": 3
   },
   "file_extension": ".py",
   "mimetype": "text/x-python",
   "name": "python",
   "nbconvert_exporter": "python",
   "pygments_lexer": "ipython3",
   "version": "3.7.4"
  }
 },
 "nbformat": 4,
 "nbformat_minor": 2
}
